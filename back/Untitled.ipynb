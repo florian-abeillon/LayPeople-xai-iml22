{
 "cells": [
  {
   "cell_type": "code",
   "execution_count": 1,
   "id": "828e3b46",
   "metadata": {
    "ExecuteTime": {
     "end_time": "2022-07-10T14:10:39.883240Z",
     "start_time": "2022-07-10T14:10:24.468698Z"
    }
   },
   "outputs": [],
   "source": [
    "import pandas as pd\n",
    "from data.mind.raw import *"
   ]
  },
  {
   "cell_type": "code",
   "execution_count": 2,
   "id": "b278f1fb",
   "metadata": {
    "ExecuteTime": {
     "end_time": "2022-07-10T14:10:39.992627Z",
     "start_time": "2022-07-10T14:10:39.886613Z"
    },
    "scrolled": true
   },
   "outputs": [
    {
     "data": {
      "text/html": [
       "<div>\n",
       "<style scoped>\n",
       "    .dataframe tbody tr th:only-of-type {\n",
       "        vertical-align: middle;\n",
       "    }\n",
       "\n",
       "    .dataframe tbody tr th {\n",
       "        vertical-align: top;\n",
       "    }\n",
       "\n",
       "    .dataframe thead th {\n",
       "        text-align: right;\n",
       "    }\n",
       "</style>\n",
       "<table border=\"1\" class=\"dataframe\">\n",
       "  <thead>\n",
       "    <tr style=\"text-align: right;\">\n",
       "      <th></th>\n",
       "      <th>cat</th>\n",
       "      <th>subcat</th>\n",
       "      <th>title</th>\n",
       "      <th>abstract</th>\n",
       "      <th>url</th>\n",
       "      <th>title_ent</th>\n",
       "      <th>abstract_ent</th>\n",
       "    </tr>\n",
       "  </thead>\n",
       "  <tbody>\n",
       "    <tr>\n",
       "      <th>N3112</th>\n",
       "      <td>lifestyle</td>\n",
       "      <td>lifestyleroyals</td>\n",
       "      <td>The Brands Queen Elizabeth, Prince Charles, an...</td>\n",
       "      <td>Shop the notebooks, jackets, and more that the...</td>\n",
       "      <td>https://www.msn.com/en-us/lifestyle/lifestyler...</td>\n",
       "      <td>[{'Label': 'Prince Philip, Duke of Edinburgh',...</td>\n",
       "      <td>[]</td>\n",
       "    </tr>\n",
       "    <tr>\n",
       "      <th>N10399</th>\n",
       "      <td>news</td>\n",
       "      <td>newsworld</td>\n",
       "      <td>The Cost of Trump's Aid Freeze in the Trenches...</td>\n",
       "      <td>Lt. Ivan Molchanets peeked over a parapet of s...</td>\n",
       "      <td>https://www.msn.com/en-us/news/world/the-cost-...</td>\n",
       "      <td>[]</td>\n",
       "      <td>[{'Label': 'Ukraine', 'Type': 'G', 'WikidataId...</td>\n",
       "    </tr>\n",
       "    <tr>\n",
       "      <th>N12103</th>\n",
       "      <td>health</td>\n",
       "      <td>voices</td>\n",
       "      <td>I Was An NBA Wife. Here's How It Affected My M...</td>\n",
       "      <td>I felt like I was a fraud, and being an NBA wi...</td>\n",
       "      <td>https://www.msn.com/en-us/health/voices/i-was-...</td>\n",
       "      <td>[]</td>\n",
       "      <td>[{'Label': 'National Basketball Association', ...</td>\n",
       "    </tr>\n",
       "    <tr>\n",
       "      <th>N20460</th>\n",
       "      <td>health</td>\n",
       "      <td>medical</td>\n",
       "      <td>How to Get Rid of Skin Tags, According to a De...</td>\n",
       "      <td>They seem harmless, but there's a very good re...</td>\n",
       "      <td>https://www.msn.com/en-us/health/medical/how-t...</td>\n",
       "      <td>[{'Label': 'Skin tag', 'Type': 'C', 'WikidataI...</td>\n",
       "      <td>[{'Label': 'Skin tag', 'Type': 'C', 'WikidataI...</td>\n",
       "    </tr>\n",
       "    <tr>\n",
       "      <th>N5409</th>\n",
       "      <td>weather</td>\n",
       "      <td>weathertopstories</td>\n",
       "      <td>It's been Orlando's hottest October ever so fa...</td>\n",
       "      <td>There won't be a chill down to your bones this...</td>\n",
       "      <td>https://www.msn.com/en-us/weather/weathertopst...</td>\n",
       "      <td>[{'Label': 'Orlando, Florida', 'Type': 'G', 'W...</td>\n",
       "      <td>[{'Label': 'Orlando, Florida', 'Type': 'G', 'W...</td>\n",
       "    </tr>\n",
       "    <tr>\n",
       "      <th>...</th>\n",
       "      <td>...</td>\n",
       "      <td>...</td>\n",
       "      <td>...</td>\n",
       "      <td>...</td>\n",
       "      <td>...</td>\n",
       "      <td>...</td>\n",
       "      <td>...</td>\n",
       "    </tr>\n",
       "    <tr>\n",
       "      <th>N4833</th>\n",
       "      <td>news</td>\n",
       "      <td>newsscienceandtechnology</td>\n",
       "      <td>Realme takes chunk of India mobile market as S...</td>\n",
       "      <td>Over 400 percent more phones shipped year-on-year</td>\n",
       "      <td>https://www.msn.com/en-us/news/newsscienceandt...</td>\n",
       "      <td>[{'Label': 'Realme', 'Type': 'N', 'WikidataId'...</td>\n",
       "      <td>[]</td>\n",
       "    </tr>\n",
       "    <tr>\n",
       "      <th>N22331</th>\n",
       "      <td>sports</td>\n",
       "      <td>golf</td>\n",
       "      <td>Young Northeast Florida fans flock to U.S. wom...</td>\n",
       "      <td>When the U.S. women's national soccer team arr...</td>\n",
       "      <td>https://www.msn.com/en-us/sports/golf/young-no...</td>\n",
       "      <td>[{'Label': 'First Coast', 'Type': 'G', 'Wikida...</td>\n",
       "      <td>[{'Label': 'United States women's national soc...</td>\n",
       "    </tr>\n",
       "    <tr>\n",
       "      <th>N21897</th>\n",
       "      <td>weather</td>\n",
       "      <td>weathertopstories</td>\n",
       "      <td>Adapting, Learning And Soul Searching: Reflect...</td>\n",
       "      <td>Woolsey Fire Anniversary: A community is forev...</td>\n",
       "      <td>https://www.msn.com/en-us/weather/topstories/a...</td>\n",
       "      <td>[{'Label': 'Woolsey Fire', 'Type': 'N', 'Wikid...</td>\n",
       "      <td>[{'Label': 'Woolsey Fire', 'Type': 'N', 'Wikid...</td>\n",
       "    </tr>\n",
       "    <tr>\n",
       "      <th>N6299</th>\n",
       "      <td>lifestyle</td>\n",
       "      <td>lifestylefamily</td>\n",
       "      <td>Family says 13-year-old Broadway star died fro...</td>\n",
       "      <td>NaN</td>\n",
       "      <td>https://www.msn.com/en-us/lifestyle/lifestylef...</td>\n",
       "      <td>[{'Label': 'Broadway theatre', 'Type': 'F', 'W...</td>\n",
       "      <td>[]</td>\n",
       "    </tr>\n",
       "    <tr>\n",
       "      <th>N12248</th>\n",
       "      <td>sports</td>\n",
       "      <td>soccer_epl</td>\n",
       "      <td>How the Sounders won MLS Cup</td>\n",
       "      <td>Mark, Jeremiah and Casey were so excited they ...</td>\n",
       "      <td>https://www.msn.com/en-us/sports/soccer_epl/ho...</td>\n",
       "      <td>[{'Label': 'MLS Cup', 'Type': 'U', 'WikidataId...</td>\n",
       "      <td>[]</td>\n",
       "    </tr>\n",
       "  </tbody>\n",
       "</table>\n",
       "<p>45463 rows × 7 columns</p>\n",
       "</div>"
      ],
      "text/plain": [
       "              cat                    subcat  \\\n",
       "N3112   lifestyle           lifestyleroyals   \n",
       "N10399       news                 newsworld   \n",
       "N12103     health                    voices   \n",
       "N20460     health                   medical   \n",
       "N5409     weather         weathertopstories   \n",
       "...           ...                       ...   \n",
       "N4833        news  newsscienceandtechnology   \n",
       "N22331     sports                      golf   \n",
       "N21897    weather         weathertopstories   \n",
       "N6299   lifestyle           lifestylefamily   \n",
       "N12248     sports                soccer_epl   \n",
       "\n",
       "                                                    title  \\\n",
       "N3112   The Brands Queen Elizabeth, Prince Charles, an...   \n",
       "N10399  The Cost of Trump's Aid Freeze in the Trenches...   \n",
       "N12103  I Was An NBA Wife. Here's How It Affected My M...   \n",
       "N20460  How to Get Rid of Skin Tags, According to a De...   \n",
       "N5409   It's been Orlando's hottest October ever so fa...   \n",
       "...                                                   ...   \n",
       "N4833   Realme takes chunk of India mobile market as S...   \n",
       "N22331  Young Northeast Florida fans flock to U.S. wom...   \n",
       "N21897  Adapting, Learning And Soul Searching: Reflect...   \n",
       "N6299   Family says 13-year-old Broadway star died fro...   \n",
       "N12248                       How the Sounders won MLS Cup   \n",
       "\n",
       "                                                 abstract  \\\n",
       "N3112   Shop the notebooks, jackets, and more that the...   \n",
       "N10399  Lt. Ivan Molchanets peeked over a parapet of s...   \n",
       "N12103  I felt like I was a fraud, and being an NBA wi...   \n",
       "N20460  They seem harmless, but there's a very good re...   \n",
       "N5409   There won't be a chill down to your bones this...   \n",
       "...                                                   ...   \n",
       "N4833   Over 400 percent more phones shipped year-on-year   \n",
       "N22331  When the U.S. women's national soccer team arr...   \n",
       "N21897  Woolsey Fire Anniversary: A community is forev...   \n",
       "N6299                                                 NaN   \n",
       "N12248  Mark, Jeremiah and Casey were so excited they ...   \n",
       "\n",
       "                                                      url  \\\n",
       "N3112   https://www.msn.com/en-us/lifestyle/lifestyler...   \n",
       "N10399  https://www.msn.com/en-us/news/world/the-cost-...   \n",
       "N12103  https://www.msn.com/en-us/health/voices/i-was-...   \n",
       "N20460  https://www.msn.com/en-us/health/medical/how-t...   \n",
       "N5409   https://www.msn.com/en-us/weather/weathertopst...   \n",
       "...                                                   ...   \n",
       "N4833   https://www.msn.com/en-us/news/newsscienceandt...   \n",
       "N22331  https://www.msn.com/en-us/sports/golf/young-no...   \n",
       "N21897  https://www.msn.com/en-us/weather/topstories/a...   \n",
       "N6299   https://www.msn.com/en-us/lifestyle/lifestylef...   \n",
       "N12248  https://www.msn.com/en-us/sports/soccer_epl/ho...   \n",
       "\n",
       "                                                title_ent  \\\n",
       "N3112   [{'Label': 'Prince Philip, Duke of Edinburgh',...   \n",
       "N10399                                                 []   \n",
       "N12103                                                 []   \n",
       "N20460  [{'Label': 'Skin tag', 'Type': 'C', 'WikidataI...   \n",
       "N5409   [{'Label': 'Orlando, Florida', 'Type': 'G', 'W...   \n",
       "...                                                   ...   \n",
       "N4833   [{'Label': 'Realme', 'Type': 'N', 'WikidataId'...   \n",
       "N22331  [{'Label': 'First Coast', 'Type': 'G', 'Wikida...   \n",
       "N21897  [{'Label': 'Woolsey Fire', 'Type': 'N', 'Wikid...   \n",
       "N6299   [{'Label': 'Broadway theatre', 'Type': 'F', 'W...   \n",
       "N12248  [{'Label': 'MLS Cup', 'Type': 'U', 'WikidataId...   \n",
       "\n",
       "                                             abstract_ent  \n",
       "N3112                                                  []  \n",
       "N10399  [{'Label': 'Ukraine', 'Type': 'G', 'WikidataId...  \n",
       "N12103  [{'Label': 'National Basketball Association', ...  \n",
       "N20460  [{'Label': 'Skin tag', 'Type': 'C', 'WikidataI...  \n",
       "N5409   [{'Label': 'Orlando, Florida', 'Type': 'G', 'W...  \n",
       "...                                                   ...  \n",
       "N4833                                                  []  \n",
       "N22331  [{'Label': 'United States women's national soc...  \n",
       "N21897  [{'Label': 'Woolsey Fire', 'Type': 'N', 'Wikid...  \n",
       "N6299                                                  []  \n",
       "N12248                                                 []  \n",
       "\n",
       "[45463 rows x 7 columns]"
      ]
     },
     "execution_count": 2,
     "metadata": {},
     "output_type": "execute_result"
    }
   ],
   "source": [
    "df = pd.concat([DF_NEWS_TEST, DF_NEWS_TRAIN])\n",
    "df"
   ]
  },
  {
   "cell_type": "code",
   "execution_count": 3,
   "id": "f7c2c45b",
   "metadata": {
    "ExecuteTime": {
     "end_time": "2022-06-13T21:08:53.414872Z",
     "start_time": "2022-06-13T21:08:53.388949Z"
    },
    "scrolled": true
   },
   "outputs": [
    {
     "data": {
      "text/plain": [
       "array(['lifestyle', 'news', 'health', 'weather', 'entertainment', 'autos',\n",
       "       'travel', 'sports', 'tv', 'foodanddrink', 'movies', 'finance',\n",
       "       'video', 'music', 'middleeast', 'kids', 'northamerica'],\n",
       "      dtype=object)"
      ]
     },
     "execution_count": 3,
     "metadata": {},
     "output_type": "execute_result"
    }
   ],
   "source": [
    "cats = df['cat'].dropna().unique()\n",
    "cats"
   ]
  },
  {
   "cell_type": "code",
   "execution_count": 5,
   "id": "81eaad4b",
   "metadata": {
    "ExecuteTime": {
     "end_time": "2022-06-13T21:09:20.686936Z",
     "start_time": "2022-06-13T21:09:20.557645Z"
    }
   },
   "outputs": [
    {
     "data": {
      "text/plain": [
       "{'lifestyle': 2671,\n",
       " 'news': 14420,\n",
       " 'health': 2151,\n",
       " 'weather': 1439,\n",
       " 'entertainment': 737,\n",
       " 'autos': 1617,\n",
       " 'travel': 2020,\n",
       " 'sports': 10263,\n",
       " 'tv': 1255,\n",
       " 'foodanddrink': 2612,\n",
       " 'movies': 771,\n",
       " 'finance': 3093,\n",
       " 'video': 1524,\n",
       " 'music': 873,\n",
       " 'middleeast': 4,\n",
       " 'kids': 12,\n",
       " 'northamerica': 1}"
      ]
     },
     "execution_count": 5,
     "metadata": {},
     "output_type": "execute_result"
    }
   ],
   "source": [
    "cat2nb_articles = {}\n",
    "for cat in cats:\n",
    "    cat2nb_articles[cat] = df[df['cat'] == cat].shape[0]\n",
    "cat2nb_articles"
   ]
  },
  {
   "cell_type": "code",
   "execution_count": 16,
   "id": "355c0e29",
   "metadata": {
    "ExecuteTime": {
     "end_time": "2022-06-13T18:08:49.334456Z",
     "start_time": "2022-06-13T18:08:49.193886Z"
    },
    "scrolled": true
   },
   "outputs": [
    {
     "data": {
      "text/plain": [
       "{'lifestyle': array(['lifestyleroyals', 'lifestylebuzz', 'shop-apparel',\n",
       "        'lifestyledidyouknow', 'lifestylesmartliving', 'voices',\n",
       "        'lifestylehomeandgarden', 'shop-all', 'causes', 'lifestyledecor',\n",
       "        'lifestylecelebstyle', 'shop-holidays', 'causes-green-living',\n",
       "        'lifestylehoroscope', 'advice', 'lifestyleparenting',\n",
       "        'lifestylecareer', 'lifestylediy', 'lifestylepetsanimals',\n",
       "        'lifestylefamilyandrelationships',\n",
       "        'lifestylecleaningandorganizing', 'lifestylebeauty',\n",
       "        'lifestyleweddings', 'lifestylelovesex', 'holidays',\n",
       "        'lifestylevideo', 'lifestylefamily', 'lifestylefashion',\n",
       "        'causes-animals', 'lifestyle-wedding', 'pregnancyparenting',\n",
       "        'lifestylemindandsoul', 'lifestyle-news-feature',\n",
       "        'lifestylerelationships', 'lifestylepets', 'awardstyle',\n",
       "        'lifestyleshoppinghomegarden', 'travel', 'lifestylehoroscopefish',\n",
       "        'lifestylewhatshot', 'shop-books-movies-tv'], dtype=object),\n",
       " 'news': array(['newsworld', 'newspolitics', 'newsopinion', 'newsoffbeat',\n",
       "        'newscrime', 'newsscienceandtechnology', 'newsus', 'newsfactcheck',\n",
       "        'factcheck', 'newsbusiness', 'newsgoodnews', 'newsphotos',\n",
       "        'elections-2020-us', 'causes-poverty', 'newsscience',\n",
       "        'newsweather', 'newsworldpolitics', 'yearinoffbeatgoodnews',\n",
       "        'newsrealestate', 'causes-environment', 'causes',\n",
       "        'personalfinance', 'causes-military-appreciation',\n",
       "        'causes-disaster-relief', 'newstechnology',\n",
       "        'empowering-the-planet', 'newsother', 'newselection2020', 'photos',\n",
       "        'indepth'], dtype=object),\n",
       " 'health': array(['voices', 'medical', 'nutrition', 'wellness', 'health-news',\n",
       "        'weightloss', 'mentalhealth', 'ads-lung-health', 'causes',\n",
       "        'healthagingwell', 'fitness', 'weight-loss', 'healthnews', 'video',\n",
       "        'recipes', 'healthyliving', 'health-cancer', 'pregnancyparenting',\n",
       "        'cardio'], dtype=object),\n",
       " 'weather': array(['weathertopstories', 'weatherfullscreenmaps'], dtype=object),\n",
       " 'entertainment': array(['gaming', 'celebrity', 'entertainment-celebrity',\n",
       "        'entertainment-books', 'humor', 'video', 'celebritynews', 'news',\n",
       "        'awards', 'tv', 'celebhub', 'entertainmenttv'], dtype=object),\n",
       " 'autos': array(['autosenthusiasts', 'autossuvs', 'autostrucks', 'autosclassics',\n",
       "        'autosnews', 'autosresearchguides', 'autossports', 'autossema',\n",
       "        'autosmotorcycles', 'autosreview', 'autosvideonew',\n",
       "        'autosownership', 'autostokyo', 'autosluxury', 'autosresearch',\n",
       "        'autoscompact', 'autoshybrids', 'autosvans', 'autoscartech',\n",
       "        'autospassenger', 'autosbuying', 'autosvideos', 'autosmidsize',\n",
       "        'autoslosangeles'], dtype=object),\n",
       " 'travel': array(['travelarticle', 'traveltripideas', 'travelnews', 'traveltips',\n",
       "        'travel-videos', 'travel-points-rewards', 'video', 'newstrends',\n",
       "        'holidays', 'ustravel', 'voices', 'internationaltravel',\n",
       "        'traveltrivia'], dtype=object),\n",
       " 'sports': array(['football_nfl', 'basketball_nba', 'golf', 'football_ncaa',\n",
       "        'racing', 'baseball_mlb', 'football_nfl_videos', 'soccer',\n",
       "        'outdoors', 'baseball_mlb_videos', 'basketball_ncaa', 'tennis',\n",
       "        'more_sports', 'mma', 'icehockey_nhl', 'boxing-mma', 'boxing',\n",
       "        'football_ncaa_videos', 'basketball_ncaa_videos', 'sports_news',\n",
       "        'mmaufc', 'soccer_mls', 'baseball', 'basketball_nba_videos',\n",
       "        'soccer_epl'], dtype=object),\n",
       " 'tv': array(['tv-gallery', 'tv-celebrity', 'tvnews', 'humor', 'tv-recaps',\n",
       "        'tvvideos', 'tv-reviews', 'topnews', 'tv-golden-globes',\n",
       "        'tv-golden-globes-video'], dtype=object),\n",
       " 'foodanddrink': array(['recipes', 'quickandeasy', 'tipsandtricks', 'newstrends',\n",
       "        'restaurantsandnews', 'videos', 'beverages', 'foodnews',\n",
       "        'foodrecipes', 'seasonal', 'causes-food-insecurity', 'cocktails',\n",
       "        'cooking', 'foodtips', 'wines'], dtype=object),\n",
       " 'movies': array(['movies-gallery', 'movies-celebrity', 'movievideo', 'movienews',\n",
       "        'movies-oscars', 'reviews', 'movies-awards'], dtype=object),\n",
       " 'finance': array(['finance-companies', 'finance-savemoney', 'retirement',\n",
       "        'finance-top-stocks', 'personalfinance', 'finance-career',\n",
       "        'finance-retirement', 'finance-career-education',\n",
       "        'finance-real-estate', 'finance-billstopay', 'finance-taxes',\n",
       "        'markets', 'financenews', 'finance-small-business',\n",
       "        'finance-video', 'finance-saving-investing', 'finance-home-loans',\n",
       "        'finance-insurance', 'career-news', 'finance-education',\n",
       "        'finance-healthcare', 'finance-technology', 'finance-credit',\n",
       "        'technologyinvesting', 'finance-homesandpropertysection',\n",
       "        'company-news', 'finance-mutual-funds', 'causes',\n",
       "        'finance-auto-insurance', 'spendingandborrowing'], dtype=object),\n",
       " 'video': array(['news', 'popculture', 'animals', 'viral', 'science', 'lifestyle',\n",
       "        'peopleandplaces', 'wonder', 'tunedin', 'comedy', 'downtime',\n",
       "        'foodanddrink', 'sports'], dtype=object),\n",
       " 'music': array(['music-gallery', 'music-celebrity', 'musicnews', 'music-awards',\n",
       "        'musicvideos', 'music-grammys', 'cma-awards', 'humor',\n",
       "        'ads-latingrammys', 'music-reviews'], dtype=object),\n",
       " 'middleeast': array(['middleeast-top-stories'], dtype=object),\n",
       " 'kids': array(['people-places', 'video', 'science', 'fun', 'animals'],\n",
       "       dtype=object),\n",
       " 'northamerica': array(['northamerica-video'], dtype=object)}"
      ]
     },
     "execution_count": 16,
     "metadata": {},
     "output_type": "execute_result"
    }
   ],
   "source": [
    "cat2subcats = {}\n",
    "for cat in cats:\n",
    "    cat2subcats[cat] = df[df['cat'] == cat]['subcat'].unique()\n",
    "cat2subcats"
   ]
  },
  {
   "cell_type": "code",
   "execution_count": 17,
   "id": "0f429c5a",
   "metadata": {
    "ExecuteTime": {
     "end_time": "2022-06-13T18:09:20.865687Z",
     "start_time": "2022-06-13T18:09:20.834022Z"
    }
   },
   "outputs": [
    {
     "data": {
      "text/plain": [
       "{'lifestyle': 41,\n",
       " 'news': 30,\n",
       " 'health': 19,\n",
       " 'weather': 2,\n",
       " 'entertainment': 12,\n",
       " 'autos': 24,\n",
       " 'travel': 13,\n",
       " 'sports': 25,\n",
       " 'tv': 10,\n",
       " 'foodanddrink': 15,\n",
       " 'movies': 7,\n",
       " 'finance': 30,\n",
       " 'video': 13,\n",
       " 'music': 10,\n",
       " 'middleeast': 1,\n",
       " 'kids': 5,\n",
       " 'northamerica': 1}"
      ]
     },
     "execution_count": 17,
     "metadata": {},
     "output_type": "execute_result"
    }
   ],
   "source": [
    "cat2nb_subcats = { cat: len(subcats) for cat, subcats in cat2subcats.items() }\n",
    "cat2nb_subcats"
   ]
  },
  {
   "cell_type": "code",
   "execution_count": null,
   "id": "9ba11670",
   "metadata": {},
   "outputs": [],
   "source": []
  },
  {
   "cell_type": "code",
   "execution_count": 5,
   "id": "29b2b450",
   "metadata": {
    "ExecuteTime": {
     "end_time": "2022-06-12T17:51:29.159706Z",
     "start_time": "2022-06-12T17:51:29.037227Z"
    },
    "scrolled": true
   },
   "outputs": [
    {
     "data": {
      "text/plain": [
       "array(['football_nflfootball_nfl', nan, 'newsworldnewsworld',\n",
       "       'personalfinancepersonalfinance', 'newsgoodnewsnewsgoodnews',\n",
       "       'lifestylebeautylifestylebeauty', 'newsopinionnewsopinion',\n",
       "       'foodnewsfoodnews', 'newspoliticsnewspolitics',\n",
       "       'baseball_mlbbaseball_mlb', 'football_ncaafootball_ncaa',\n",
       "       'popculturepopculture', 'recipesrecipes',\n",
       "       'traveltripideastraveltripideas', 'tv-celebritytv-celebrity',\n",
       "       'finance-companiesfinance-companies',\n",
       "       'entertainment-celebrityentertainment-celebrity',\n",
       "       'weathertopstoriesweathertopstories',\n",
       "       'finance-real-estatefinance-real-estate', 'newsusnewsus',\n",
       "       'basketball_nbabasketball_nba', 'newscrimenewscrime',\n",
       "       'newstrendsnewstrends', 'traveltipstraveltips',\n",
       "       'finance-videofinance-video',\n",
       "       'newsscienceandtechnologynewsscienceandtechnology',\n",
       "       'animalsanimals', 'movievideomovievideo',\n",
       "       'music-celebritymusic-celebrity', 'basketball_ncaabasketball_ncaa',\n",
       "       'travelarticletravelarticle', 'golfgolf', 'musicvideosmusicvideos',\n",
       "       'musicnewsmusicnews', 'racingracing', 'more_sportsmore_sports',\n",
       "       'weightlossweightloss', 'finance-retirementfinance-retirement',\n",
       "       'autosenthusiastsautosenthusiasts', 'celebritycelebrity',\n",
       "       'lifestylelovesexlifestylelovesex',\n",
       "       'football_nfl_videosfootball_nfl_videos', 'travelnewstravelnews',\n",
       "       'marketsmarkets', 'tvnewstvnews',\n",
       "       'restaurantsandnewsrestaurantsandnews',\n",
       "       'lifestylebuzzlifestylebuzz', 'wellnesswellness',\n",
       "       'outdoorsoutdoors', 'autossportsautossports',\n",
       "       'healthnewshealthnews', 'voicesvoices',\n",
       "       'lifestyleroyalslifestyleroyals',\n",
       "       'autosresearchguidesautosresearchguides',\n",
       "       'music-gallerymusic-gallery', 'medicalmedical', 'humorhumor',\n",
       "       'financenewsfinancenews', 'health-newshealth-news',\n",
       "       'fitnessfitness', 'autossuvsautossuvs', 'causescauses',\n",
       "       'autosownershipautosownership', 'autosmotorcyclesautosmotorcycles',\n",
       "       'shop-holidaysshop-holidays', 'lifestylelifestyle', 'adviceadvice',\n",
       "       'lifestylehomeandgardenlifestylehomeandgarden',\n",
       "       'finance-career-educationfinance-career-education',\n",
       "       'newsoffbeatnewsoffbeat', 'boxing-mmaboxing-mma',\n",
       "       'autosnewsautosnews', 'newsnews',\n",
       "       'entertainment-booksentertainment-books', 'autostokyoautostokyo',\n",
       "       'beveragesbeverages', 'tv-gallerytv-gallery',\n",
       "       'lifestylemindandsoullifestylemindandsoul', 'retirementretirement',\n",
       "       'nutritionnutrition', 'tvvideostvvideos', 'viralviral',\n",
       "       'tipsandtrickstipsandtricks', 'elections-2020-uselections-2020-us',\n",
       "       'finance-saving-investingfinance-saving-investing',\n",
       "       'lifestylecelebstylelifestylecelebstyle',\n",
       "       'travel-points-rewardstravel-points-rewards', 'movienewsmovienews',\n",
       "       'autosluxuryautosluxury', 'shop-allshop-all', 'mmamma',\n",
       "       'autosclassicsautosclassics', 'videovideo',\n",
       "       'lifestylehoroscopelifestylehoroscope', 'sciencescience',\n",
       "       'movies-celebritymovies-celebrity',\n",
       "       'finance-top-stocksfinance-top-stocks',\n",
       "       'lifestyleweddingslifestyleweddings', 'videosvideos',\n",
       "       'finance-taxesfinance-taxes', 'travel-videostravel-videos',\n",
       "       'finance-mutual-fundsfinance-mutual-funds',\n",
       "       'movies-gallerymovies-gallery',\n",
       "       'finance-educationfinance-education',\n",
       "       'finance-creditfinance-credit',\n",
       "       'baseball_mlb_videosbaseball_mlb_videos',\n",
       "       'lifestyledidyouknowlifestyledidyouknow',\n",
       "       'lifestylepetsanimalslifestylepetsanimals', 'factcheckfactcheck',\n",
       "       'lifestylecareerlifestylecareer', 'autostrucksautostrucks',\n",
       "       'lifestylesmartlivinglifestylesmartliving', 'boxingboxing',\n",
       "       'newsphotosnewsphotos', 'wineswines', 'mmaufcmmaufc',\n",
       "       'awardsawards', 'autossemaautossema', 'lifestylepetslifestylepets',\n",
       "       'tennistennis', 'wonderwonder', 'icehockey_nhlicehockey_nhl',\n",
       "       'ads-lung-healthads-lung-health', 'music-awardsmusic-awards',\n",
       "       'cocktailscocktails', 'finance-savemoneyfinance-savemoney',\n",
       "       'technologyinvestingtechnologyinvesting', 'weight-lossweight-loss',\n",
       "       'quickandeasyquickandeasy', 'lifestylefamilylifestylefamily',\n",
       "       'movies-awardsmovies-awards',\n",
       "       'internationaltravelinternationaltravel', 'awardstyleawardstyle',\n",
       "       'autosbuyingautosbuying',\n",
       "       'weatherfullscreenmapsweatherfullscreenmaps',\n",
       "       'autosresearchautosresearch',\n",
       "       'tv-golden-globes-videotv-golden-globes-video',\n",
       "       'lifestylefamilyandrelationshipslifestylefamilyandrelationships',\n",
       "       'music-grammysmusic-grammys', 'lifestylevideolifestylevideo',\n",
       "       'finance-technologyfinance-technology', 'cookingcooking',\n",
       "       'basketball_nba_videosbasketball_nba_videos',\n",
       "       'sports_newssports_news',\n",
       "       'middleeast-top-storiesmiddleeast-top-stories',\n",
       "       'tv-recapstv-recaps',\n",
       "       'lifestyle-news-featurelifestyle-news-feature',\n",
       "       'newsbusinessnewsbusiness', 'lifestyleparentinglifestyleparenting',\n",
       "       'finance-careerfinance-career',\n",
       "       'lifestyleshoppinghomegardenlifestyleshoppinghomegarden',\n",
       "       'cma-awardscma-awards', 'pregnancyparentingpregnancyparenting',\n",
       "       'lifestylecleaningandorganizinglifestylecleaningandorganizing',\n",
       "       'finance-healthcarefinance-healthcare',\n",
       "       'lifestylefashionlifestylefashion', 'lifestylediylifestylediy',\n",
       "       'newssciencenewsscience', 'soccer_mlssoccer_mls',\n",
       "       'mentalhealthmentalhealth', 'traveltriviatraveltrivia',\n",
       "       'autoshybridsautoshybrids', 'finance-insurancefinance-insurance',\n",
       "       'seasonalseasonal', 'holidaysholidays', 'soccersoccer',\n",
       "       'autospassengerautospassenger', 'newsfactchecknewsfactcheck',\n",
       "       'movies-oscarsmovies-oscars',\n",
       "       'football_ncaa_videosfootball_ncaa_videos',\n",
       "       'shop-apparelshop-apparel',\n",
       "       'causes-food-insecuritycauses-food-insecurity',\n",
       "       'peopleandplacespeopleandplaces', 'celebritynewscelebritynews',\n",
       "       'causes-green-livingcauses-green-living', 'ustravelustravel',\n",
       "       'lifestyledecorlifestyledecor', 'ads-latingrammysads-latingrammys',\n",
       "       'basketball_ncaa_videosbasketball_ncaa_videos', 'gaminggaming',\n",
       "       'finance-billstopayfinance-billstopay',\n",
       "       'lifestylerelationshipslifestylerelationships',\n",
       "       'finance-homesandpropertysectionfinance-homesandpropertysection',\n",
       "       'newsworldpoliticsnewsworldpolitics',\n",
       "       'causes-military-appreciationcauses-military-appreciation',\n",
       "       'newsweathernewsweather', 'cardiocardio',\n",
       "       'lifestylehoroscopefishlifestylehoroscopefish',\n",
       "       'foodrecipesfoodrecipes', 'autosvideonewautosvideonew',\n",
       "       'newsrealestatenewsrealestate', 'career-newscareer-news',\n",
       "       'health-cancerhealth-cancer', 'reviewsreviews',\n",
       "       'tv-reviewstv-reviews',\n",
       "       'finance-small-businessfinance-small-business',\n",
       "       'shop-books-movies-tvshop-books-movies-tv', 'foodtipsfoodtips',\n",
       "       'yearinoffbeatgoodnewsyearinoffbeatgoodnews',\n",
       "       'autoscompactautoscompact', 'finance-home-loansfinance-home-loans',\n",
       "       'autosvansautosvans', 'tvtv', 'causes-animalscauses-animals',\n",
       "       'celebhubcelebhub', 'autosreviewautosreview',\n",
       "       'healthylivinghealthyliving', 'autosvideosautosvideos',\n",
       "       'baseballbaseball', 'traveltravel',\n",
       "       'healthagingwellhealthagingwell',\n",
       "       'lifestyle-weddinglifestyle-wedding',\n",
       "       'causes-povertycauses-poverty', 'topnewstopnews',\n",
       "       'finance-auto-insurancefinance-auto-insurance',\n",
       "       'people-placespeople-places', 'tv-golden-globestv-golden-globes',\n",
       "       'autosmidsizeautosmidsize', 'causes-environmentcauses-environment',\n",
       "       'company-newscompany-news', 'autoscartechautoscartech'],\n",
       "      dtype=object)"
      ]
     },
     "execution_count": 5,
     "metadata": {},
     "output_type": "execute_result"
    }
   ],
   "source": [
    "(DF_NEWS_TEST['subcat'] + DF_NEWS_TRAIN['subcat']).unique()"
   ]
  },
  {
   "cell_type": "code",
   "execution_count": 8,
   "id": "b657e780",
   "metadata": {
    "ExecuteTime": {
     "end_time": "2022-06-11T18:18:33.539631Z",
     "start_time": "2022-06-11T18:18:33.509008Z"
    }
   },
   "outputs": [
    {
     "data": {
      "text/plain": [
       "{'Label': 'Prince Philip, Duke of Edinburgh',\n",
       " 'Type': 'P',\n",
       " 'WikidataId': 'Q80976',\n",
       " 'Confidence': 1.0,\n",
       " 'OccurrenceOffsets': [48],\n",
       " 'SurfaceForms': ['Prince Philip']}"
      ]
     },
     "execution_count": 8,
     "metadata": {},
     "output_type": "execute_result"
    }
   ],
   "source": [
    "DF_NEWS_TEST.iloc[0]['title_ent'][0]"
   ]
  },
  {
   "cell_type": "code",
   "execution_count": null,
   "id": "1f06c79b",
   "metadata": {},
   "outputs": [],
   "source": []
  },
  {
   "cell_type": "code",
   "execution_count": 1,
   "id": "89fa447b",
   "metadata": {
    "ExecuteTime": {
     "end_time": "2022-06-09T00:42:13.449724Z",
     "start_time": "2022-06-09T00:41:37.332631Z"
    },
    "scrolled": false
   },
   "outputs": [
    {
     "name": "stdout",
     "output_type": "stream",
     "text": [
      "WARNING:tensorflow:From c:\\users\\flo\\miniconda3\\lib\\site-packages\\recommenders\\models\\newsrec\\models\\base_model.py:68: The name tf.keras.backend.set_session is deprecated. Please use tf.compat.v1.keras.backend.set_session instead.\n",
      "\n",
      "Tensor(\"conv1d/Relu:0\", shape=(None, 30, 400), dtype=float32)\n",
      "Tensor(\"att_layer2/Sum_1:0\", shape=(None, 400), dtype=float32)\n"
     ]
    },
    {
     "name": "stderr",
     "output_type": "stream",
     "text": [
      "c:\\users\\flo\\miniconda3\\lib\\site-packages\\keras\\optimizer_v2\\adam.py:105: UserWarning: The `lr` argument is deprecated, use `learning_rate` instead.\n",
      "  super(Adam, self).__init__(name, **kwargs)\n",
      "0it [00:00, ?it/s]c:\\users\\flo\\miniconda3\\lib\\site-packages\\keras\\engine\\training_v1.py:2079: UserWarning: `Model.state_updates` will be removed in a future version. This property should not be used in TensorFlow 2.0, as `updates` are applied automatically.\n",
      "  updates=self.state_updates,\n",
      "586it [00:07, 76.65it/s] \n",
      "C:\\Users\\Flo\\Desktop\\Cours\\ETH\\2 - Spring 2022\\IML - Interactive ML\\Project\\LayPeople-xai-iml22\\back\\models\\blackbox\\model.py:56: FutureWarning: arrays to stack must be passed as a \"sequence\" type such as list or tuple. Support for non-sequence iterables such as generators is deprecated as of NumPy 1.16 and will raise an error in the future.\n",
      "  self.load()\n"
     ]
    }
   ],
   "source": [
    "from models import BLACKBOX_MODEL, RANDOM_MODEL, WHITEBOX_MODEL\n",
    "from utils.utils import get_viz"
   ]
  },
  {
   "cell_type": "code",
   "execution_count": 2,
   "id": "403813e3",
   "metadata": {
    "ExecuteTime": {
     "end_time": "2022-06-09T00:42:13.474356Z",
     "start_time": "2022-06-09T00:42:13.464810Z"
    }
   },
   "outputs": [],
   "source": [
    "history = [ 'N20460', 'N3112', 'N10' ]\n",
    "wei_mtd = { 'content': .1, 'popularity': .4, 'users': .5 }\n",
    "wei_obj = { 'surprise': .2, 'exploration': .4, 'diversity': .4 }"
   ]
  },
  {
   "cell_type": "code",
   "execution_count": 3,
   "id": "28989908",
   "metadata": {
    "ExecuteTime": {
     "end_time": "2022-06-09T00:39:51.712049Z",
     "start_time": "2022-06-09T00:39:51.006755Z"
    },
    "scrolled": true
   },
   "outputs": [
    {
     "name": "stderr",
     "output_type": "stream",
     "text": [
      "c:\\users\\flo\\miniconda3\\lib\\site-packages\\keras\\engine\\training_v1.py:2079: UserWarning: `Model.state_updates` will be removed in a future version. This property should not be used in TensorFlow 2.0, as `updates` are applied automatically.\n",
      "  updates=self.state_updates,\n"
     ]
    },
    {
     "name": "stdout",
     "output_type": "stream",
     "text": [
      "[ 0.01800648  0.13042238  0.09434672  0.16754577  0.36329594  0.10177313\n",
      "  0.04532591  0.03534091 -0.02591864  0.02734415 -0.01343771 -0.01045099\n",
      " -0.02514569  0.10732698  0.10284062 -0.07606783  0.18505913 -0.01785135\n",
      " -0.16242664  0.01959695  0.03389576 -0.08618254 -0.15211597 -0.03452446\n",
      "  0.16406488  0.10935248  0.16934906  0.09753264  0.03277744  0.16780049\n",
      " -0.11206964 -0.00922259  0.03034202 -0.08802561  0.10841005  0.2532268\n",
      " -0.07896544  0.08632652  0.27327883  0.04609491 -0.0564989   0.01484462\n",
      "  0.07242411  0.1286573  -0.10463253  0.04831835 -0.2007829  -0.01672215\n",
      "  0.05118226 -0.0081432   0.28550717  0.2904613  -0.15470119 -0.0632293\n",
      "  0.15166263  0.22538565 -0.20587459 -0.10300189  0.4715142  -0.07594593\n",
      "  0.08289841  0.04297961  0.16789418  0.11950274 -0.02230952  0.03125356\n",
      "  0.07014722  0.20380522  0.15911464  0.04021841  0.07405299  0.23856616\n",
      " -0.09576714  0.03676993  0.02265895  0.05405087  0.06859245  0.05262155\n",
      " -0.1614765   0.03149195 -0.26007664 -0.07167032 -0.1202068  -0.04981878\n",
      " -0.06055634  0.09398763 -0.24187194  0.16655205  0.13766074  0.10891448\n",
      "  0.01108949  0.13660647 -0.09216626  0.13322929 -0.09748502  0.01418849\n",
      "  0.08007969 -0.18571657 -0.00114575  0.13477713 -0.08766933  0.07531777\n",
      "  0.11444321 -0.05583077 -0.00500582  0.14105165  0.02833784  0.18609732\n",
      " -0.04199231  0.08740455 -0.04770984 -0.09428701 -0.04891738  0.05864926\n",
      "  0.07613696  0.00751554 -0.01147273 -0.16539279 -0.07146093 -0.14657211\n",
      "  0.01757002  0.07289655 -0.00115127 -0.00759955  0.0050972   0.05283562\n",
      " -0.06366745  0.23871017  0.07092734  0.1945844  -0.33309686  0.22773682\n",
      " -0.08052458  0.02484706 -0.02885941 -0.07947752  0.10809718  0.09201021\n",
      "  0.08875006  0.13053001  0.00476786 -0.02713206 -0.19295901  0.15255827\n",
      "  0.04098382  0.03435737  0.08530786  0.29055515  0.02444116  0.0698707\n",
      "  0.1428241   0.18514249 -0.00648211 -0.03931312 -0.08290669  0.02759496\n",
      "  0.14155832 -0.03335999 -0.05596369  0.08970217 -0.10866106  0.07506956\n",
      "  0.09509447  0.04512774  0.02257589  0.17405878  0.06381059  0.00541125\n",
      "  0.13417824 -0.06144354  0.11782123  0.05675509  0.07390415  0.12295862\n",
      "  0.0288795   0.08173537  0.01719106 -0.03704457  0.09066808 -0.12387028\n",
      " -0.15473917  0.20569049  0.08986232 -0.00516523  0.09680653  0.17056708\n",
      "  0.21372959  0.01229222 -0.17586976  0.05447778  0.23044583 -0.09206738\n",
      " -0.2332666  -0.03602192  0.04758804  0.14363861 -0.05394424  0.05948262\n",
      "  0.12376375 -0.07815732 -0.01357972  0.14983802  0.07997206  0.13863039\n",
      "  0.06725663 -0.0694533   0.08888246 -0.00278242  0.09557097  0.20465423\n",
      "  0.03632791 -0.21210656  0.11148418 -0.05792001  0.10058616  0.30005136\n",
      " -0.02001254 -0.00094698  0.13750759 -0.12403393  0.2192623  -0.17864087\n",
      " -0.21404473  0.1258252  -0.01847591  0.03145177  0.12039341  0.1400028\n",
      "  0.02889433 -0.01453957  0.05096485  0.08325455  0.04627311  0.0291349\n",
      "  0.03222083 -0.01494743 -0.24656253 -0.07255603  0.0410843  -0.02844402\n",
      "  0.07149516 -0.0460069   0.07227515  0.01225076 -0.14810129  0.06813084\n",
      "  0.02695782  0.09897891  0.10515316  0.01740533 -0.1294496  -0.04664849\n",
      "  0.14200565  0.04452351 -0.0280798   0.04368091  0.1038997  -0.05960675\n",
      " -0.06715491  0.04046825 -0.01893088  0.00523605  0.1644696  -0.00868941\n",
      "  0.08546993 -0.28998753  0.00442921  0.13825396  0.12553823 -0.01460648\n",
      "  0.24679577  0.03316514  0.09793144  0.337053   -0.00066261  0.3735764\n",
      "  0.19124666  0.14093408  0.0662977  -0.01016721 -0.0164645   0.11669573\n",
      "  0.24143924  0.07398579 -0.14577392 -0.00943685 -0.00351308 -0.12624326\n",
      " -0.20560166  0.13146287 -0.12797901  0.00329794  0.06225711 -0.02001039\n",
      "  0.08437954  0.07733878  0.08223557 -0.23252957  0.03372749  0.12365267\n",
      "  0.26052198  0.32790917  0.07698131  0.03948113  0.19892937  0.14192858\n",
      "  0.02467181  0.09736907  0.2593512  -0.01337685 -0.02679696  0.01623681\n",
      "  0.12954015 -0.04059234  0.01090862  0.03131123 -0.0108039   0.19962576\n",
      "  0.06280581 -0.01206666 -0.02331393  0.08852066  0.07053749  0.04293926\n",
      " -0.03808032 -0.06217495  0.17260978  0.20003411 -0.41038084  0.12295526\n",
      "  0.12492063  0.06677009  0.18560559  0.12803102  0.1520755   0.01172364\n",
      " -0.01963904  0.01464708  0.09053499 -0.12618284 -0.01107092  0.15465172\n",
      "  0.09465714 -0.03724441 -0.01157941 -0.02998452 -0.01407842 -0.1895971\n",
      " -0.09729727  0.3554405   0.00253308  0.09361322  0.04187986 -0.08047961\n",
      "  0.08332738  0.23710653  0.06911133 -0.05480126  0.01233507  0.02509565\n",
      "  0.062815   -0.05503728  0.21120763 -0.0378235  -0.01167078 -0.03072007\n",
      "  0.20864843  0.00115949  0.03438331  0.08977578  0.06892145  0.06555587\n",
      "  0.07112442 -0.08412729  0.06803641  0.06098299  0.14980127  0.08477227\n",
      "  0.05522081 -0.03297676  0.00189601 -0.01921782  0.23003757  0.0022219\n",
      "  0.09015609  0.00887389  0.02532256  0.25368348  0.14580752  0.08336306\n",
      "  0.02746106  0.0467543  -0.11819516 -0.02816882  0.10896357 -0.0633314\n",
      "  0.07291693 -0.05162816  0.06888853  0.26361698]\n"
     ]
    },
    {
     "data": {
      "text/html": [
       "<div>\n",
       "<style scoped>\n",
       "    .dataframe tbody tr th:only-of-type {\n",
       "        vertical-align: middle;\n",
       "    }\n",
       "\n",
       "    .dataframe tbody tr th {\n",
       "        vertical-align: top;\n",
       "    }\n",
       "\n",
       "    .dataframe thead th {\n",
       "        text-align: right;\n",
       "    }\n",
       "</style>\n",
       "<table border=\"1\" class=\"dataframe\">\n",
       "  <thead>\n",
       "    <tr style=\"text-align: right;\">\n",
       "      <th></th>\n",
       "      <th>cat</th>\n",
       "      <th>subcat</th>\n",
       "      <th>title</th>\n",
       "      <th>abstract</th>\n",
       "      <th>url</th>\n",
       "      <th>title_ent</th>\n",
       "      <th>abstract_ent</th>\n",
       "    </tr>\n",
       "  </thead>\n",
       "  <tbody>\n",
       "    <tr>\n",
       "      <th>N18892</th>\n",
       "      <td>music</td>\n",
       "      <td>music-celebrity</td>\n",
       "      <td>Wynonna Judd's Daughter, 23, Released from Pri...</td>\n",
       "      <td>Wynonna Judd's Daughter Released from Prison 6...</td>\n",
       "      <td>https://www.msn.com/en-us/music/music-celebrit...</td>\n",
       "      <td>[]</td>\n",
       "      <td>[]</td>\n",
       "    </tr>\n",
       "    <tr>\n",
       "      <th>N15396</th>\n",
       "      <td>sports</td>\n",
       "      <td>baseball_mlb</td>\n",
       "      <td>Reddick: Yankees fans 'disrespectful' for thro...</td>\n",
       "      <td>NEW YORK (AP)   Houston Astros right fielder J...</td>\n",
       "      <td>https://www.msn.com/en-us/sports/mlb/reddick-y...</td>\n",
       "      <td>[{'Label': 'Josh Reddick', 'Type': 'P', 'Wikid...</td>\n",
       "      <td>[{'Label': 'Josh Reddick', 'Type': 'P', 'Wikid...</td>\n",
       "    </tr>\n",
       "    <tr>\n",
       "      <th>N23978</th>\n",
       "      <td>sports</td>\n",
       "      <td>baseball_mlb</td>\n",
       "      <td>MLB rumors: Yankees interview David Cone for p...</td>\n",
       "      <td>The New York Yankees interviewed David Cone fo...</td>\n",
       "      <td>https://www.msn.com/en-us/sports/mlb/mlb-rumor...</td>\n",
       "      <td>[{'Label': 'David Cone', 'Type': 'P', 'Wikidat...</td>\n",
       "      <td>[{'Label': 'David Cone', 'Type': 'P', 'Wikidat...</td>\n",
       "    </tr>\n",
       "    <tr>\n",
       "      <th>N20507</th>\n",
       "      <td>sports</td>\n",
       "      <td>baseball_mlb</td>\n",
       "      <td>Yankees Reportedly Parting Ways With Longtime ...</td>\n",
       "      <td>While reports swirled last week Joe Girardi mi...</td>\n",
       "      <td>https://www.msn.com/en-us/sports/baseball_mlb/...</td>\n",
       "      <td>[{'Label': 'New York Yankees', 'Type': 'O', 'W...</td>\n",
       "      <td>[{'Label': 'New York Yankees', 'Type': 'O', 'W...</td>\n",
       "    </tr>\n",
       "    <tr>\n",
       "      <th>N11696</th>\n",
       "      <td>finance</td>\n",
       "      <td>finance-taxes</td>\n",
       "      <td>Here are the new income tax brackets for 2020</td>\n",
       "      <td>The IRS released the federal tax rates and inc...</td>\n",
       "      <td>https://www.msn.com/en-us/finance/finance-taxe...</td>\n",
       "      <td>[]</td>\n",
       "      <td>[{'Label': 'Internal Revenue Service', 'Type':...</td>\n",
       "    </tr>\n",
       "    <tr>\n",
       "      <th>N1883</th>\n",
       "      <td>sports</td>\n",
       "      <td>baseball_mlb</td>\n",
       "      <td>Astros OF Josh Reddick calls New York Yankees ...</td>\n",
       "      <td>Astros right fielder Josh Reddick was critical...</td>\n",
       "      <td>https://www.msn.com/en-us/sports/baseball_mlb/...</td>\n",
       "      <td>[{'Label': 'Josh Reddick', 'Type': 'P', 'Wikid...</td>\n",
       "      <td>[{'Label': 'Josh Reddick', 'Type': 'P', 'Wikid...</td>\n",
       "    </tr>\n",
       "    <tr>\n",
       "      <th>N6801</th>\n",
       "      <td>sports</td>\n",
       "      <td>football_ncaa</td>\n",
       "      <td>Saban suspended unnamed player for Miss. St. g...</td>\n",
       "      <td>Crimson Tide looking to bounce back from its f...</td>\n",
       "      <td>https://www.msn.com/en-us/sports/football_ncaa...</td>\n",
       "      <td>[{'Label': 'Nick Saban', 'Type': 'P', 'Wikidat...</td>\n",
       "      <td>[{'Label': 'Alabama Crimson Tide football', 'T...</td>\n",
       "    </tr>\n",
       "    <tr>\n",
       "      <th>N8531</th>\n",
       "      <td>sports</td>\n",
       "      <td>football_nfl</td>\n",
       "      <td>Maurkice Pouncey suspended three games</td>\n",
       "      <td>The NFL has handed out discipline to players i...</td>\n",
       "      <td>https://www.msn.com/en-us/sports/football_nfl/...</td>\n",
       "      <td>[{'Label': 'Maurkice Pouncey', 'Type': 'P', 'W...</td>\n",
       "      <td>[{'Label': 'Maurkice Pouncey', 'Type': 'P', 'W...</td>\n",
       "    </tr>\n",
       "    <tr>\n",
       "      <th>N24747</th>\n",
       "      <td>sports</td>\n",
       "      <td>baseball_mlb</td>\n",
       "      <td>Fan ejected after taunting Astros starter Greinke</td>\n",
       "      <td>Well, Yankees fans were warned that they need ...</td>\n",
       "      <td>https://www.msn.com/en-us/sports/baseball_mlb/...</td>\n",
       "      <td>[{'Label': 'Zack Greinke', 'Type': 'P', 'Wikid...</td>\n",
       "      <td>[]</td>\n",
       "    </tr>\n",
       "    <tr>\n",
       "      <th>N14982</th>\n",
       "      <td>sports</td>\n",
       "      <td>football_nfl</td>\n",
       "      <td>Browns, Steelers brawl at end of Cleveland's 2...</td>\n",
       "      <td>Cleveland defense end Myles Garrett ripped off...</td>\n",
       "      <td>https://www.msn.com/en-us/sports/football_nfl/...</td>\n",
       "      <td>[{'Label': 'Cleveland Browns', 'Type': 'O', 'W...</td>\n",
       "      <td>[{'Label': 'Cleveland Browns', 'Type': 'O', 'W...</td>\n",
       "    </tr>\n",
       "    <tr>\n",
       "      <th>N2186</th>\n",
       "      <td>sports</td>\n",
       "      <td>baseball_mlb</td>\n",
       "      <td>Why a rainout on Wednesday could spell doom fo...</td>\n",
       "      <td>NaN</td>\n",
       "      <td>https://www.msn.com/en-us/sports/baseball_mlb/...</td>\n",
       "      <td>[{'Label': 'New York Yankees', 'Type': 'O', 'W...</td>\n",
       "      <td>[]</td>\n",
       "    </tr>\n",
       "    <tr>\n",
       "      <th>N11876</th>\n",
       "      <td>sports</td>\n",
       "      <td>baseball_mlb</td>\n",
       "      <td>Correa HR in 11th, Astros top Yankees 3-2; ALC...</td>\n",
       "      <td>Astros take down Yankees 3-2 in 11, level ALCS...</td>\n",
       "      <td>https://www.msn.com/en-us/sports/baseball_mlb/...</td>\n",
       "      <td>[{'Label': 'Houston Astros', 'Type': 'O', 'Wik...</td>\n",
       "      <td>[{'Label': 'Houston Astros', 'Type': 'O', 'Wik...</td>\n",
       "    </tr>\n",
       "    <tr>\n",
       "      <th>N12649</th>\n",
       "      <td>sports</td>\n",
       "      <td>baseball_mlb</td>\n",
       "      <td>Astros manager threatens to pull players off f...</td>\n",
       "      <td>Houston Astros manager AJ Hinch made it clear ...</td>\n",
       "      <td>https://www.msn.com/en-us/sports/baseball_mlb/...</td>\n",
       "      <td>[{'Label': 'New York Yankees', 'Type': 'O', 'W...</td>\n",
       "      <td>[{'Label': 'A. J. Hinch', 'Type': 'P', 'Wikida...</td>\n",
       "    </tr>\n",
       "    <tr>\n",
       "      <th>N14995</th>\n",
       "      <td>sports</td>\n",
       "      <td>baseball_mlb</td>\n",
       "      <td>Larry Rothschild out as Yankees' pitching coach</td>\n",
       "      <td>The 65-year-old Rothschild has been the team's...</td>\n",
       "      <td>https://www.msn.com/en-us/sports/baseball_mlb/...</td>\n",
       "      <td>[{'Label': 'New York Yankees', 'Type': 'O', 'W...</td>\n",
       "      <td>[{'Label': 'Larry Rothschild', 'Type': 'P', 'W...</td>\n",
       "    </tr>\n",
       "    <tr>\n",
       "      <th>N14188</th>\n",
       "      <td>sports</td>\n",
       "      <td>football_nfl</td>\n",
       "      <td>Charges against Pittsburgh Steelers linebacker...</td>\n",
       "      <td>UNIONTOWN, Pa. (AP) Misdemeanor charges have b...</td>\n",
       "      <td>https://www.msn.com/en-us/sports/nfl/charges-a...</td>\n",
       "      <td>[{'Label': 'Pittsburgh Steelers', 'Type': 'O',...</td>\n",
       "      <td>[{'Label': 'Hotel Pennsylvania', 'Type': 'F', ...</td>\n",
       "    </tr>\n",
       "    <tr>\n",
       "      <th>N20213</th>\n",
       "      <td>sports</td>\n",
       "      <td>basketball_nba</td>\n",
       "      <td>Warriors' Russell ejected for going after offi...</td>\n",
       "      <td>D'Angelo Russell is not having the best start ...</td>\n",
       "      <td>https://www.msn.com/en-us/sports/basketball_nb...</td>\n",
       "      <td>[{'Label': 'Golden State Warriors', 'Type': 'O...</td>\n",
       "      <td>[{'Label': 'Golden State Warriors', 'Type': 'O...</td>\n",
       "    </tr>\n",
       "    <tr>\n",
       "      <th>N24622</th>\n",
       "      <td>sports</td>\n",
       "      <td>more_sports</td>\n",
       "      <td>Roger Stone Found Guilty</td>\n",
       "      <td>Roger Stone Found Guilty.</td>\n",
       "      <td>https://www.msn.com/en-us/sports/more_sports/r...</td>\n",
       "      <td>[]</td>\n",
       "      <td>[]</td>\n",
       "    </tr>\n",
       "    <tr>\n",
       "      <th>N21315</th>\n",
       "      <td>sports</td>\n",
       "      <td>football_nfl</td>\n",
       "      <td>Cardinals Murray named NFC Offensive Player of...</td>\n",
       "      <td>Kyler Murray becomes just the second rookie in...</td>\n",
       "      <td>https://www.msn.com/en-us/sports/football_nfl/...</td>\n",
       "      <td>[]</td>\n",
       "      <td>[{'Label': 'Kyler Murray', 'Type': 'P', 'Wikid...</td>\n",
       "    </tr>\n",
       "    <tr>\n",
       "      <th>N10776</th>\n",
       "      <td>sports</td>\n",
       "      <td>football_nfl</td>\n",
       "      <td>Redskins reportedly deny rumors of Trent Willi...</td>\n",
       "      <td>Williams won't play for Washington, allegedly ...</td>\n",
       "      <td>https://www.msn.com/en-us/sports/football_nfl/...</td>\n",
       "      <td>[{'Label': 'Trent Williams', 'Type': 'P', 'Wik...</td>\n",
       "      <td>[{'Label': 'Trent Williams', 'Type': 'P', 'Wik...</td>\n",
       "    </tr>\n",
       "    <tr>\n",
       "      <th>N5333</th>\n",
       "      <td>sports</td>\n",
       "      <td>baseball_mlb</td>\n",
       "      <td>Greinke wins Rawlings Gold Glove Award</td>\n",
       "      <td>NaN</td>\n",
       "      <td>https://www.msn.com/en-us/sports/baseball_mlb/...</td>\n",
       "      <td>[{'Label': 'Rawlings Gold Glove Award', 'Type'...</td>\n",
       "      <td>[]</td>\n",
       "    </tr>\n",
       "  </tbody>\n",
       "</table>\n",
       "</div>"
      ],
      "text/plain": [
       "            cat           subcat  \\\n",
       "N18892    music  music-celebrity   \n",
       "N15396   sports     baseball_mlb   \n",
       "N23978   sports     baseball_mlb   \n",
       "N20507   sports     baseball_mlb   \n",
       "N11696  finance    finance-taxes   \n",
       "N1883    sports     baseball_mlb   \n",
       "N6801    sports    football_ncaa   \n",
       "N8531    sports     football_nfl   \n",
       "N24747   sports     baseball_mlb   \n",
       "N14982   sports     football_nfl   \n",
       "N2186    sports     baseball_mlb   \n",
       "N11876   sports     baseball_mlb   \n",
       "N12649   sports     baseball_mlb   \n",
       "N14995   sports     baseball_mlb   \n",
       "N14188   sports     football_nfl   \n",
       "N20213   sports   basketball_nba   \n",
       "N24622   sports      more_sports   \n",
       "N21315   sports     football_nfl   \n",
       "N10776   sports     football_nfl   \n",
       "N5333    sports     baseball_mlb   \n",
       "\n",
       "                                                    title  \\\n",
       "N18892  Wynonna Judd's Daughter, 23, Released from Pri...   \n",
       "N15396  Reddick: Yankees fans 'disrespectful' for thro...   \n",
       "N23978  MLB rumors: Yankees interview David Cone for p...   \n",
       "N20507  Yankees Reportedly Parting Ways With Longtime ...   \n",
       "N11696      Here are the new income tax brackets for 2020   \n",
       "N1883   Astros OF Josh Reddick calls New York Yankees ...   \n",
       "N6801   Saban suspended unnamed player for Miss. St. g...   \n",
       "N8531              Maurkice Pouncey suspended three games   \n",
       "N24747  Fan ejected after taunting Astros starter Greinke   \n",
       "N14982  Browns, Steelers brawl at end of Cleveland's 2...   \n",
       "N2186   Why a rainout on Wednesday could spell doom fo...   \n",
       "N11876  Correa HR in 11th, Astros top Yankees 3-2; ALC...   \n",
       "N12649  Astros manager threatens to pull players off f...   \n",
       "N14995    Larry Rothschild out as Yankees' pitching coach   \n",
       "N14188  Charges against Pittsburgh Steelers linebacker...   \n",
       "N20213  Warriors' Russell ejected for going after offi...   \n",
       "N24622                           Roger Stone Found Guilty   \n",
       "N21315  Cardinals Murray named NFC Offensive Player of...   \n",
       "N10776  Redskins reportedly deny rumors of Trent Willi...   \n",
       "N5333              Greinke wins Rawlings Gold Glove Award   \n",
       "\n",
       "                                                 abstract  \\\n",
       "N18892  Wynonna Judd's Daughter Released from Prison 6...   \n",
       "N15396  NEW YORK (AP)   Houston Astros right fielder J...   \n",
       "N23978  The New York Yankees interviewed David Cone fo...   \n",
       "N20507  While reports swirled last week Joe Girardi mi...   \n",
       "N11696  The IRS released the federal tax rates and inc...   \n",
       "N1883   Astros right fielder Josh Reddick was critical...   \n",
       "N6801   Crimson Tide looking to bounce back from its f...   \n",
       "N8531   The NFL has handed out discipline to players i...   \n",
       "N24747  Well, Yankees fans were warned that they need ...   \n",
       "N14982  Cleveland defense end Myles Garrett ripped off...   \n",
       "N2186                                                 NaN   \n",
       "N11876  Astros take down Yankees 3-2 in 11, level ALCS...   \n",
       "N12649  Houston Astros manager AJ Hinch made it clear ...   \n",
       "N14995  The 65-year-old Rothschild has been the team's...   \n",
       "N14188  UNIONTOWN, Pa. (AP) Misdemeanor charges have b...   \n",
       "N20213  D'Angelo Russell is not having the best start ...   \n",
       "N24622                          Roger Stone Found Guilty.   \n",
       "N21315  Kyler Murray becomes just the second rookie in...   \n",
       "N10776  Williams won't play for Washington, allegedly ...   \n",
       "N5333                                                 NaN   \n",
       "\n",
       "                                                      url  \\\n",
       "N18892  https://www.msn.com/en-us/music/music-celebrit...   \n",
       "N15396  https://www.msn.com/en-us/sports/mlb/reddick-y...   \n",
       "N23978  https://www.msn.com/en-us/sports/mlb/mlb-rumor...   \n",
       "N20507  https://www.msn.com/en-us/sports/baseball_mlb/...   \n",
       "N11696  https://www.msn.com/en-us/finance/finance-taxe...   \n",
       "N1883   https://www.msn.com/en-us/sports/baseball_mlb/...   \n",
       "N6801   https://www.msn.com/en-us/sports/football_ncaa...   \n",
       "N8531   https://www.msn.com/en-us/sports/football_nfl/...   \n",
       "N24747  https://www.msn.com/en-us/sports/baseball_mlb/...   \n",
       "N14982  https://www.msn.com/en-us/sports/football_nfl/...   \n",
       "N2186   https://www.msn.com/en-us/sports/baseball_mlb/...   \n",
       "N11876  https://www.msn.com/en-us/sports/baseball_mlb/...   \n",
       "N12649  https://www.msn.com/en-us/sports/baseball_mlb/...   \n",
       "N14995  https://www.msn.com/en-us/sports/baseball_mlb/...   \n",
       "N14188  https://www.msn.com/en-us/sports/nfl/charges-a...   \n",
       "N20213  https://www.msn.com/en-us/sports/basketball_nb...   \n",
       "N24622  https://www.msn.com/en-us/sports/more_sports/r...   \n",
       "N21315  https://www.msn.com/en-us/sports/football_nfl/...   \n",
       "N10776  https://www.msn.com/en-us/sports/football_nfl/...   \n",
       "N5333   https://www.msn.com/en-us/sports/baseball_mlb/...   \n",
       "\n",
       "                                                title_ent  \\\n",
       "N18892                                                 []   \n",
       "N15396  [{'Label': 'Josh Reddick', 'Type': 'P', 'Wikid...   \n",
       "N23978  [{'Label': 'David Cone', 'Type': 'P', 'Wikidat...   \n",
       "N20507  [{'Label': 'New York Yankees', 'Type': 'O', 'W...   \n",
       "N11696                                                 []   \n",
       "N1883   [{'Label': 'Josh Reddick', 'Type': 'P', 'Wikid...   \n",
       "N6801   [{'Label': 'Nick Saban', 'Type': 'P', 'Wikidat...   \n",
       "N8531   [{'Label': 'Maurkice Pouncey', 'Type': 'P', 'W...   \n",
       "N24747  [{'Label': 'Zack Greinke', 'Type': 'P', 'Wikid...   \n",
       "N14982  [{'Label': 'Cleveland Browns', 'Type': 'O', 'W...   \n",
       "N2186   [{'Label': 'New York Yankees', 'Type': 'O', 'W...   \n",
       "N11876  [{'Label': 'Houston Astros', 'Type': 'O', 'Wik...   \n",
       "N12649  [{'Label': 'New York Yankees', 'Type': 'O', 'W...   \n",
       "N14995  [{'Label': 'New York Yankees', 'Type': 'O', 'W...   \n",
       "N14188  [{'Label': 'Pittsburgh Steelers', 'Type': 'O',...   \n",
       "N20213  [{'Label': 'Golden State Warriors', 'Type': 'O...   \n",
       "N24622                                                 []   \n",
       "N21315                                                 []   \n",
       "N10776  [{'Label': 'Trent Williams', 'Type': 'P', 'Wik...   \n",
       "N5333   [{'Label': 'Rawlings Gold Glove Award', 'Type'...   \n",
       "\n",
       "                                             abstract_ent  \n",
       "N18892                                                 []  \n",
       "N15396  [{'Label': 'Josh Reddick', 'Type': 'P', 'Wikid...  \n",
       "N23978  [{'Label': 'David Cone', 'Type': 'P', 'Wikidat...  \n",
       "N20507  [{'Label': 'New York Yankees', 'Type': 'O', 'W...  \n",
       "N11696  [{'Label': 'Internal Revenue Service', 'Type':...  \n",
       "N1883   [{'Label': 'Josh Reddick', 'Type': 'P', 'Wikid...  \n",
       "N6801   [{'Label': 'Alabama Crimson Tide football', 'T...  \n",
       "N8531   [{'Label': 'Maurkice Pouncey', 'Type': 'P', 'W...  \n",
       "N24747                                                 []  \n",
       "N14982  [{'Label': 'Cleveland Browns', 'Type': 'O', 'W...  \n",
       "N2186                                                  []  \n",
       "N11876  [{'Label': 'Houston Astros', 'Type': 'O', 'Wik...  \n",
       "N12649  [{'Label': 'A. J. Hinch', 'Type': 'P', 'Wikida...  \n",
       "N14995  [{'Label': 'Larry Rothschild', 'Type': 'P', 'W...  \n",
       "N14188  [{'Label': 'Hotel Pennsylvania', 'Type': 'F', ...  \n",
       "N20213  [{'Label': 'Golden State Warriors', 'Type': 'O...  \n",
       "N24622                                                 []  \n",
       "N21315  [{'Label': 'Kyler Murray', 'Type': 'P', 'Wikid...  \n",
       "N10776  [{'Label': 'Trent Williams', 'Type': 'P', 'Wik...  \n",
       "N5333                                                  []  "
      ]
     },
     "metadata": {},
     "output_type": "display_data"
    },
    {
     "data": {
      "text/plain": [
       "[-1.1719808593342007, -4.781393062744043]"
      ]
     },
     "execution_count": 3,
     "metadata": {},
     "output_type": "execute_result"
    }
   ],
   "source": [
    "model = BLACKBOX_MODEL\n",
    "user_emb = model.embed_user(history)\n",
    "print(user_emb)\n",
    "recos = model.get_reco(user_emb, history=history, wei_mtd=wei_mtd, wei_obj=wei_obj)\n",
    "display(recos)\n",
    "viz = get_viz(user_emb, 'users', 'blackbox')\n",
    "viz"
   ]
  },
  {
   "cell_type": "code",
   "execution_count": 4,
   "id": "fa6a1d69",
   "metadata": {
    "ExecuteTime": {
     "end_time": "2022-06-09T00:39:51.748436Z",
     "start_time": "2022-06-09T00:39:51.715139Z"
    },
    "scrolled": true
   },
   "outputs": [
    {
     "name": "stdout",
     "output_type": "stream",
     "text": [
      "[ 0.49671415 -0.1382643 ]\n"
     ]
    },
    {
     "data": {
      "text/html": [
       "<div>\n",
       "<style scoped>\n",
       "    .dataframe tbody tr th:only-of-type {\n",
       "        vertical-align: middle;\n",
       "    }\n",
       "\n",
       "    .dataframe tbody tr th {\n",
       "        vertical-align: top;\n",
       "    }\n",
       "\n",
       "    .dataframe thead th {\n",
       "        text-align: right;\n",
       "    }\n",
       "</style>\n",
       "<table border=\"1\" class=\"dataframe\">\n",
       "  <thead>\n",
       "    <tr style=\"text-align: right;\">\n",
       "      <th></th>\n",
       "      <th>cat</th>\n",
       "      <th>subcat</th>\n",
       "      <th>title</th>\n",
       "      <th>abstract</th>\n",
       "      <th>url</th>\n",
       "    </tr>\n",
       "  </thead>\n",
       "  <tbody>\n",
       "    <tr>\n",
       "      <th>N18819</th>\n",
       "      <td>news</td>\n",
       "      <td>newspolitics</td>\n",
       "      <td>Elizabeth Warren Says She Will Release a Plan ...</td>\n",
       "      <td>INDIANOLA, Iowa   Senator Elizabeth Warren of ...</td>\n",
       "      <td>https://www.msn.com/en-us/news/politics/elizab...</td>\n",
       "    </tr>\n",
       "    <tr>\n",
       "      <th>N17218</th>\n",
       "      <td>video</td>\n",
       "      <td>news</td>\n",
       "      <td>Russia investigation origins probe shifts to a...</td>\n",
       "      <td>New York Times reports probe shift; reaction f...</td>\n",
       "      <td>https://www.msn.com/en-us/video/news/russia-in...</td>\n",
       "    </tr>\n",
       "    <tr>\n",
       "      <th>N1494</th>\n",
       "      <td>foodanddrink</td>\n",
       "      <td>restaurantsandnews</td>\n",
       "      <td>49 Unique Doughnuts You Have to Try</td>\n",
       "      <td>Forget traditional   deluxe, artisanal doughnu...</td>\n",
       "      <td>https://www.msn.com/en-us/foodanddrink/restaur...</td>\n",
       "    </tr>\n",
       "    <tr>\n",
       "      <th>N637</th>\n",
       "      <td>sports</td>\n",
       "      <td>football_ncaa</td>\n",
       "      <td>Bill Plaschke: Mike Bohn brings USC integrity,...</td>\n",
       "      <td>LOS ANGELES_You ever heard of Mike Bohn? Me ne...</td>\n",
       "      <td>https://www.msn.com/en-us/sports/ncaafb/bill-p...</td>\n",
       "    </tr>\n",
       "    <tr>\n",
       "      <th>N26752</th>\n",
       "      <td>weather</td>\n",
       "      <td>weathertopstories</td>\n",
       "      <td>Phoenix may raise recycling rates or scrap the...</td>\n",
       "      <td>The Phoenix City Council is debating whether t...</td>\n",
       "      <td>https://www.msn.com/en-us/weather/weathertopst...</td>\n",
       "    </tr>\n",
       "    <tr>\n",
       "      <th>N20903</th>\n",
       "      <td>sports</td>\n",
       "      <td>basketball_nba</td>\n",
       "      <td>Shaquille O'Neal donates home to family of Atl...</td>\n",
       "      <td>Shaquille O'Neal heard Isaiah Payton couldn't ...</td>\n",
       "      <td>https://www.msn.com/en-us/sports/basketball_nb...</td>\n",
       "    </tr>\n",
       "    <tr>\n",
       "      <th>N12642</th>\n",
       "      <td>lifestyle</td>\n",
       "      <td>lifestyleroyals</td>\n",
       "      <td>47 Photos of Kate Middleton That You Forgot Ex...</td>\n",
       "      <td>Looking back at the Duchess of Cambridge's bes...</td>\n",
       "      <td>https://www.msn.com/en-us/lifestyle/lifestyler...</td>\n",
       "    </tr>\n",
       "    <tr>\n",
       "      <th>N11309</th>\n",
       "      <td>news</td>\n",
       "      <td>newsworld</td>\n",
       "      <td>Threat or chance? Israel eyes Lebanon protests...</td>\n",
       "      <td>Looking down on Lebanon from the Israeli-occup...</td>\n",
       "      <td>https://www.msn.com/en-us/news/newsworld/threa...</td>\n",
       "    </tr>\n",
       "    <tr>\n",
       "      <th>N24507</th>\n",
       "      <td>sports</td>\n",
       "      <td>football_nfl</td>\n",
       "      <td>Seahawks look for first 4-0 road start since 1980</td>\n",
       "      <td>NaN</td>\n",
       "      <td>https://www.msn.com/en-us/sports/football_nfl/...</td>\n",
       "    </tr>\n",
       "    <tr>\n",
       "      <th>N10545</th>\n",
       "      <td>news</td>\n",
       "      <td>newscrime</td>\n",
       "      <td>3 Killed After Police Pursuit Ends In Crash On...</td>\n",
       "      <td>A fourth person was rushed to a hospital in cr...</td>\n",
       "      <td>https://www.msn.com/en-us/news/newscrime/3-kil...</td>\n",
       "    </tr>\n",
       "    <tr>\n",
       "      <th>N5</th>\n",
       "      <td>news</td>\n",
       "      <td>newscrime</td>\n",
       "      <td>Suspect accused in stabbing death outside Mapc...</td>\n",
       "      <td>Police say 23-year-old Omar Guillen-Garcia is ...</td>\n",
       "      <td>https://www.msn.com/en-us/news/newscrime/suspe...</td>\n",
       "    </tr>\n",
       "    <tr>\n",
       "      <th>N7879</th>\n",
       "      <td>news</td>\n",
       "      <td>newsopinion</td>\n",
       "      <td>What Trump Didn't Say About the Massacre in Me...</td>\n",
       "      <td>MEXICO CITY   The seven-month-old baby Faith M...</td>\n",
       "      <td>https://www.msn.com/en-us/news/newsopinion/wha...</td>\n",
       "    </tr>\n",
       "    <tr>\n",
       "      <th>N10402</th>\n",
       "      <td>news</td>\n",
       "      <td>newsus</td>\n",
       "      <td>Widow unable to bury husband in St. Augustine ...</td>\n",
       "      <td>Five months ago, Air Force Veteran Arthur Hess...</td>\n",
       "      <td>https://www.msn.com/en-us/news/newsus/widow-un...</td>\n",
       "    </tr>\n",
       "    <tr>\n",
       "      <th>N15814</th>\n",
       "      <td>news</td>\n",
       "      <td>newspolitics</td>\n",
       "      <td>Army Officer Who Heard Trump's Ukraine Call Re...</td>\n",
       "      <td>A White House national security official plans...</td>\n",
       "      <td>https://www.msn.com/en-us/news/politics/army-o...</td>\n",
       "    </tr>\n",
       "    <tr>\n",
       "      <th>N27072</th>\n",
       "      <td>finance</td>\n",
       "      <td>financenews</td>\n",
       "      <td>FOCUS-VW ramps up China electric car factories...</td>\n",
       "      <td>VOLKSWAGEN-ELECTRIC/ (UPDATE 1, FOCUS, PIX, GR...</td>\n",
       "      <td>https://www.msn.com/en-us/finance/financenews/...</td>\n",
       "    </tr>\n",
       "    <tr>\n",
       "      <th>N27919</th>\n",
       "      <td>news</td>\n",
       "      <td>newspolitics</td>\n",
       "      <td>Trump goes on Twitter tear after White House o...</td>\n",
       "      <td>President Donald Trump launched a sustained on...</td>\n",
       "      <td>https://www.msn.com/en-us/news/newspolitics/tr...</td>\n",
       "    </tr>\n",
       "    <tr>\n",
       "      <th>N3632</th>\n",
       "      <td>finance</td>\n",
       "      <td>finance-savemoney</td>\n",
       "      <td>Online Shopping Secrets Retailers Don't Want Y...</td>\n",
       "      <td>Use these hacks to save every time you shop on...</td>\n",
       "      <td>https://www.msn.com/en-us/finance/finance-save...</td>\n",
       "    </tr>\n",
       "    <tr>\n",
       "      <th>N10095</th>\n",
       "      <td>sports</td>\n",
       "      <td>football_nfl</td>\n",
       "      <td>Bill Belichick will not rule out coaching into...</td>\n",
       "      <td>Belichick will turn 70 on April 16, 2022. If h...</td>\n",
       "      <td>https://www.msn.com/en-us/sports/football_nfl/...</td>\n",
       "    </tr>\n",
       "    <tr>\n",
       "      <th>N12197</th>\n",
       "      <td>news</td>\n",
       "      <td>newsscienceandtechnology</td>\n",
       "      <td>China completes lander test for first Mars mis...</td>\n",
       "      <td>China completes lander test for first Mars mis...</td>\n",
       "      <td>https://www.msn.com/en-us/news/newsscienceandt...</td>\n",
       "    </tr>\n",
       "    <tr>\n",
       "      <th>N14351</th>\n",
       "      <td>lifestyle</td>\n",
       "      <td>lifestylehomeandgarden</td>\n",
       "      <td>27 Easy Ways to Upgrade Your Kitchen Without R...</td>\n",
       "      <td>Use these tips and tricks to transform your ki...</td>\n",
       "      <td>https://www.msn.com/en-us/lifestyle/lifestyleh...</td>\n",
       "    </tr>\n",
       "  </tbody>\n",
       "</table>\n",
       "</div>"
      ],
      "text/plain": [
       "                 cat                    subcat  \\\n",
       "N18819          news              newspolitics   \n",
       "N17218         video                      news   \n",
       "N1494   foodanddrink        restaurantsandnews   \n",
       "N637          sports             football_ncaa   \n",
       "N26752       weather         weathertopstories   \n",
       "N20903        sports            basketball_nba   \n",
       "N12642     lifestyle           lifestyleroyals   \n",
       "N11309          news                 newsworld   \n",
       "N24507        sports              football_nfl   \n",
       "N10545          news                 newscrime   \n",
       "N5              news                 newscrime   \n",
       "N7879           news               newsopinion   \n",
       "N10402          news                    newsus   \n",
       "N15814          news              newspolitics   \n",
       "N27072       finance               financenews   \n",
       "N27919          news              newspolitics   \n",
       "N3632        finance         finance-savemoney   \n",
       "N10095        sports              football_nfl   \n",
       "N12197          news  newsscienceandtechnology   \n",
       "N14351     lifestyle    lifestylehomeandgarden   \n",
       "\n",
       "                                                    title  \\\n",
       "N18819  Elizabeth Warren Says She Will Release a Plan ...   \n",
       "N17218  Russia investigation origins probe shifts to a...   \n",
       "N1494                 49 Unique Doughnuts You Have to Try   \n",
       "N637    Bill Plaschke: Mike Bohn brings USC integrity,...   \n",
       "N26752  Phoenix may raise recycling rates or scrap the...   \n",
       "N20903  Shaquille O'Neal donates home to family of Atl...   \n",
       "N12642  47 Photos of Kate Middleton That You Forgot Ex...   \n",
       "N11309  Threat or chance? Israel eyes Lebanon protests...   \n",
       "N24507  Seahawks look for first 4-0 road start since 1980   \n",
       "N10545  3 Killed After Police Pursuit Ends In Crash On...   \n",
       "N5      Suspect accused in stabbing death outside Mapc...   \n",
       "N7879   What Trump Didn't Say About the Massacre in Me...   \n",
       "N10402  Widow unable to bury husband in St. Augustine ...   \n",
       "N15814  Army Officer Who Heard Trump's Ukraine Call Re...   \n",
       "N27072  FOCUS-VW ramps up China electric car factories...   \n",
       "N27919  Trump goes on Twitter tear after White House o...   \n",
       "N3632   Online Shopping Secrets Retailers Don't Want Y...   \n",
       "N10095  Bill Belichick will not rule out coaching into...   \n",
       "N12197  China completes lander test for first Mars mis...   \n",
       "N14351  27 Easy Ways to Upgrade Your Kitchen Without R...   \n",
       "\n",
       "                                                 abstract  \\\n",
       "N18819  INDIANOLA, Iowa   Senator Elizabeth Warren of ...   \n",
       "N17218  New York Times reports probe shift; reaction f...   \n",
       "N1494   Forget traditional   deluxe, artisanal doughnu...   \n",
       "N637    LOS ANGELES_You ever heard of Mike Bohn? Me ne...   \n",
       "N26752  The Phoenix City Council is debating whether t...   \n",
       "N20903  Shaquille O'Neal heard Isaiah Payton couldn't ...   \n",
       "N12642  Looking back at the Duchess of Cambridge's bes...   \n",
       "N11309  Looking down on Lebanon from the Israeli-occup...   \n",
       "N24507                                                NaN   \n",
       "N10545  A fourth person was rushed to a hospital in cr...   \n",
       "N5      Police say 23-year-old Omar Guillen-Garcia is ...   \n",
       "N7879   MEXICO CITY   The seven-month-old baby Faith M...   \n",
       "N10402  Five months ago, Air Force Veteran Arthur Hess...   \n",
       "N15814  A White House national security official plans...   \n",
       "N27072  VOLKSWAGEN-ELECTRIC/ (UPDATE 1, FOCUS, PIX, GR...   \n",
       "N27919  President Donald Trump launched a sustained on...   \n",
       "N3632   Use these hacks to save every time you shop on...   \n",
       "N10095  Belichick will turn 70 on April 16, 2022. If h...   \n",
       "N12197  China completes lander test for first Mars mis...   \n",
       "N14351  Use these tips and tricks to transform your ki...   \n",
       "\n",
       "                                                      url  \n",
       "N18819  https://www.msn.com/en-us/news/politics/elizab...  \n",
       "N17218  https://www.msn.com/en-us/video/news/russia-in...  \n",
       "N1494   https://www.msn.com/en-us/foodanddrink/restaur...  \n",
       "N637    https://www.msn.com/en-us/sports/ncaafb/bill-p...  \n",
       "N26752  https://www.msn.com/en-us/weather/weathertopst...  \n",
       "N20903  https://www.msn.com/en-us/sports/basketball_nb...  \n",
       "N12642  https://www.msn.com/en-us/lifestyle/lifestyler...  \n",
       "N11309  https://www.msn.com/en-us/news/newsworld/threa...  \n",
       "N24507  https://www.msn.com/en-us/sports/football_nfl/...  \n",
       "N10545  https://www.msn.com/en-us/news/newscrime/3-kil...  \n",
       "N5      https://www.msn.com/en-us/news/newscrime/suspe...  \n",
       "N7879   https://www.msn.com/en-us/news/newsopinion/wha...  \n",
       "N10402  https://www.msn.com/en-us/news/newsus/widow-un...  \n",
       "N15814  https://www.msn.com/en-us/news/politics/army-o...  \n",
       "N27072  https://www.msn.com/en-us/finance/financenews/...  \n",
       "N27919  https://www.msn.com/en-us/news/newspolitics/tr...  \n",
       "N3632   https://www.msn.com/en-us/finance/finance-save...  \n",
       "N10095  https://www.msn.com/en-us/sports/football_nfl/...  \n",
       "N12197  https://www.msn.com/en-us/news/newsscienceandt...  \n",
       "N14351  https://www.msn.com/en-us/lifestyle/lifestyleh...  "
      ]
     },
     "metadata": {},
     "output_type": "display_data"
    },
    {
     "data": {
      "text/plain": [
       "[0.4455808796861795, 0.252702135970178]"
      ]
     },
     "execution_count": 4,
     "metadata": {},
     "output_type": "execute_result"
    }
   ],
   "source": [
    "model = RANDOM_MODEL\n",
    "user_emb = model.embed_user(history)\n",
    "print(user_emb)\n",
    "recos = model.get_reco(user_emb, history=history, wei_mtd=wei_mtd, wei_obj=wei_obj)\n",
    "display(recos)\n",
    "viz = get_viz(user_emb, 'users', 'random')\n",
    "viz"
   ]
  },
  {
   "cell_type": "code",
   "execution_count": 3,
   "id": "e7307cd9",
   "metadata": {
    "ExecuteTime": {
     "end_time": "2022-06-09T00:42:14.328293Z",
     "start_time": "2022-06-09T00:42:13.482351Z"
    },
    "scrolled": true
   },
   "outputs": [
    {
     "name": "stdout",
     "output_type": "stream",
     "text": [
      "[-0.00110922 -0.01375328  0.01363583 -0.00251364 -0.01544497 -0.0114385\n",
      "  0.00996797 -0.01379192  0.01523089  0.01988067  0.04574978  0.03353181\n",
      "  0.02878842 -0.03527192 -0.02144467 -0.01702019 -0.00010419  0.01829164\n",
      " -0.01528736 -0.00700814 -0.02330083 -0.03270292  0.02156003  0.00712833\n",
      " -0.01871797 -0.02385992 -0.00154489 -0.01729517  0.02715356 -0.00337525\n",
      " -0.04254431  0.01950553  0.02655161 -0.00191031 -0.01855839 -0.00701708\n",
      " -0.01894072 -0.04638764 -0.04110567 -0.00734358 -0.03386056  0.05626022\n",
      " -0.01432769  0.02407008 -0.05463878  0.00890367  0.00188933  0.02493183\n",
      " -0.00318392  0.01301681 -0.02129569  0.02467092  0.01228419  0.03723189\n",
      "  0.02194044  0.03563389  0.01247428  0.01621992 -0.01255197 -0.02347264\n",
      "  0.00025556 -0.00140439  0.01803208 -0.00280161  0.01325375 -0.00087714\n",
      " -0.02988978 -0.01084917 -0.01203781  0.00031261 -0.02543217 -0.00584083\n",
      "  0.01143703  0.02913697 -0.02147531 -0.01715078 -0.02007997  0.01227197\n",
      "  0.02595553  0.05181292  0.03751578  0.00638225 -0.00505844  0.03445575\n",
      "  0.01466608 -0.04485383  0.02690792 -0.00237378  0.00624217 -0.02985139\n",
      " -0.04832083  0.00989458  0.01236536 -0.02040194  0.00596328 -0.07506806\n",
      "  0.04448092 -0.04455764  0.02572397  0.01085261  0.00089341 -0.02656002\n",
      "  0.02976949 -0.01672311 -0.01569955 -0.03139653  0.01164215 -0.01873343\n",
      "  0.01371379  0.03656973  0.04721516  0.04289509  0.02304745 -0.01244795\n",
      " -0.0422156  -0.0142906  -0.00296699  0.02136905 -0.0129778  -0.01823156\n",
      " -0.05886426 -0.01345397  0.00403796  0.02825138  0.00891991 -0.03663815\n",
      " -0.00125217 -0.00611528  0.02351736  0.01993895 -0.01644936  0.01896718\n",
      "  0.03045296 -0.02565394  0.00118045 -0.02347213 -0.03584764 -0.04934985\n",
      " -0.01909458  0.01609099 -0.03795009  0.03767453 -0.01555016  0.00854651\n",
      " -0.03802803 -0.02343156 -0.02202516  0.047196    0.0013126   0.03295195\n",
      " -0.04055982 -0.00193174  0.01880978  0.03157432  0.01928358  0.02547579\n",
      " -0.00979843 -0.00691877 -0.00012205 -0.02237134 -0.02730562  0.03663229\n",
      "  0.01400769  0.02570099  0.00369165 -0.02745335 -0.04792199 -0.03201886\n",
      " -0.01136865 -0.01936464 -0.04066095 -0.03767688  0.03566076  0.04260531\n",
      " -0.03379208 -0.01378802 -0.01882803  0.04554008  0.02096142  0.03020336\n",
      "  0.02450213 -0.01000133  0.00500084  0.05354522  0.03331667 -0.03557178\n",
      "  0.00704989  0.01013123 -0.01662885 -0.01864292 -0.03039356  0.01582144\n",
      "  0.00788658 -0.03368099 -0.01436953 -0.05726272  0.0273434  -0.05405761\n",
      "  0.00793322  0.02987301 -0.00159771 -0.0228017   0.03312269 -0.0083201\n",
      " -0.01980707 -0.0391626   0.02278216 -0.01961498  0.02048438  0.03907024\n",
      "  0.05285081  0.03900023  0.01829386 -0.02515237 -0.04925011 -0.0247384\n",
      "  0.00442972  0.03266228 -0.01276856 -0.01978272 -0.05840859 -0.0154841\n",
      "  0.01284596  0.02084244 -0.00050359 -0.05190923  0.0011099  -0.002072\n",
      "  0.0347318   0.01246923 -0.02287462  0.01432323  0.04508129 -0.0287293\n",
      " -0.00744455 -0.02519824 -0.04366677 -0.04468776 -0.03039163  0.02640212\n",
      " -0.04486397  0.04790412 -0.0187927   0.00786671 -0.05229414 -0.01918691\n",
      " -0.02396182  0.04958487  0.00570277  0.02881655 -0.0391748   0.00946253\n",
      "  0.02999283  0.03792909  0.02780722  0.04208559 -0.00159245  0.00081308\n",
      " -0.00786414 -0.01643563 -0.01370485  0.03043129  0.02010831  0.01798124\n",
      "  0.01522995 -0.0266423  -0.04870208 -0.03740678 -0.00692716 -0.00883772\n",
      " -0.0496839  -0.03698427  0.02564419  0.04122288 -0.040976   -0.02099732\n",
      " -0.01649104  0.04707732  0.01916651  0.03385804  0.03555032 -0.00753727\n",
      "  0.00402324  0.05746633  0.04232196 -0.0403344   0.01351227  0.01865646\n",
      " -0.02769349 -0.01642438 -0.03571424  0.02479993  0.02150715 -0.02236513\n",
      " -0.01066753 -0.0568354   0.02621961 -0.06128796  0.01371838  0.02438985]\n"
     ]
    },
    {
     "data": {
      "text/html": [
       "<div>\n",
       "<style scoped>\n",
       "    .dataframe tbody tr th:only-of-type {\n",
       "        vertical-align: middle;\n",
       "    }\n",
       "\n",
       "    .dataframe tbody tr th {\n",
       "        vertical-align: top;\n",
       "    }\n",
       "\n",
       "    .dataframe thead th {\n",
       "        text-align: right;\n",
       "    }\n",
       "</style>\n",
       "<table border=\"1\" class=\"dataframe\">\n",
       "  <thead>\n",
       "    <tr style=\"text-align: right;\">\n",
       "      <th></th>\n",
       "      <th>cat</th>\n",
       "      <th>subcat</th>\n",
       "      <th>title</th>\n",
       "      <th>abstract</th>\n",
       "      <th>url</th>\n",
       "      <th>title_ent</th>\n",
       "      <th>abstract_ent</th>\n",
       "      <th>content</th>\n",
       "      <th>popularity</th>\n",
       "      <th>users</th>\n",
       "      <th>content_w</th>\n",
       "      <th>popularity_w</th>\n",
       "      <th>users_w</th>\n",
       "      <th>score</th>\n",
       "      <th>random</th>\n",
       "    </tr>\n",
       "  </thead>\n",
       "  <tbody>\n",
       "    <tr>\n",
       "      <th>N1150</th>\n",
       "      <td>sports</td>\n",
       "      <td>football_nfl</td>\n",
       "      <td>Arizona high school football roundup: Saguaro ...</td>\n",
       "      <td>Game stories from high school football games a...</td>\n",
       "      <td>https://www.msn.com/en-us/sports/nfl/arizona-h...</td>\n",
       "      <td>[{'Label': 'Marcos de Niza', 'Type': 'P', 'Wik...</td>\n",
       "      <td>[{'Label': 'Arizona', 'Type': 'G', 'WikidataId...</td>\n",
       "      <td>-0.764306</td>\n",
       "      <td>-0.330402</td>\n",
       "      <td>-0.276539</td>\n",
       "      <td>-0.076431</td>\n",
       "      <td>-0.132161</td>\n",
       "      <td>-0.138270</td>\n",
       "      <td>-0.346861</td>\n",
       "      <td>False</td>\n",
       "    </tr>\n",
       "    <tr>\n",
       "      <th>N22882</th>\n",
       "      <td>tv</td>\n",
       "      <td>tv-gallery</td>\n",
       "      <td>12 Military-Themed TV Shows to Binge-Watch on ...</td>\n",
       "      <td>From \"M*A*S*H\" to \"JAG\"</td>\n",
       "      <td>https://www.msn.com/en-us/tv/tv-gallery/12-mil...</td>\n",
       "      <td>[{'Label': 'Television show', 'Type': 'C', 'Wi...</td>\n",
       "      <td>[{'Label': 'M*A*S*H (TV series)', 'Type': 'W',...</td>\n",
       "      <td>-2.880342</td>\n",
       "      <td>-1.181590</td>\n",
       "      <td>-0.234719</td>\n",
       "      <td>-0.288034</td>\n",
       "      <td>-0.472636</td>\n",
       "      <td>-0.117359</td>\n",
       "      <td>-0.878029</td>\n",
       "      <td>False</td>\n",
       "    </tr>\n",
       "    <tr>\n",
       "      <th>N2993</th>\n",
       "      <td>sports</td>\n",
       "      <td>basketball_nba</td>\n",
       "      <td>What we got wrong: Biggest preseason surprises...</td>\n",
       "      <td>The Bright Side Staff reflects on off-season p...</td>\n",
       "      <td>https://www.msn.com/en-us/sports/nba/what-we-g...</td>\n",
       "      <td>[{'Label': 'Phoenix Suns', 'Type': 'O', 'Wikid...</td>\n",
       "      <td>[]</td>\n",
       "      <td>-0.986070</td>\n",
       "      <td>-1.061195</td>\n",
       "      <td>-0.279701</td>\n",
       "      <td>-0.098607</td>\n",
       "      <td>-0.424478</td>\n",
       "      <td>-0.139851</td>\n",
       "      <td>-0.662936</td>\n",
       "      <td>False</td>\n",
       "    </tr>\n",
       "    <tr>\n",
       "      <th>N6231</th>\n",
       "      <td>sports</td>\n",
       "      <td>football_ncaa</td>\n",
       "      <td>AP Poll Top 25 Projection: After Week 8</td>\n",
       "      <td>Where will all the top teams rank in the 2019 ...</td>\n",
       "      <td>https://www.msn.com/en-us/sports/ncaafb/ap-pol...</td>\n",
       "      <td>[{'Label': 'AP Poll', 'Type': 'U', 'WikidataId...</td>\n",
       "      <td>[{'Label': 'AP Poll', 'Type': 'U', 'WikidataId...</td>\n",
       "      <td>-0.831936</td>\n",
       "      <td>-0.839917</td>\n",
       "      <td>-0.276288</td>\n",
       "      <td>-0.083194</td>\n",
       "      <td>-0.335967</td>\n",
       "      <td>-0.138144</td>\n",
       "      <td>-0.557304</td>\n",
       "      <td>False</td>\n",
       "    </tr>\n",
       "    <tr>\n",
       "      <th>N24590</th>\n",
       "      <td>autos</td>\n",
       "      <td>autosnews</td>\n",
       "      <td>Woman, 49, dies after being struck by SUV in N...</td>\n",
       "      <td>A woman crossing a Brooklyn street with her yo...</td>\n",
       "      <td>https://www.msn.com/en-us/autos/autosnews/woma...</td>\n",
       "      <td>[{'Label': 'Sport utility vehicle', 'Type': 'C...</td>\n",
       "      <td>[{'Label': 'Bath Beach, Brooklyn', 'Type': 'C'...</td>\n",
       "      <td>0.338971</td>\n",
       "      <td>0.168915</td>\n",
       "      <td>-0.273326</td>\n",
       "      <td>0.033897</td>\n",
       "      <td>0.067566</td>\n",
       "      <td>-0.136663</td>\n",
       "      <td>-0.035200</td>\n",
       "      <td>False</td>\n",
       "    </tr>\n",
       "    <tr>\n",
       "      <th>N28377</th>\n",
       "      <td>music</td>\n",
       "      <td>music-celebrity</td>\n",
       "      <td>Brett Young and Wife Taylor Welcome Their Firs...</td>\n",
       "      <td>The couple shared their daughter's first portr...</td>\n",
       "      <td>https://www.msn.com/en-us/music/music-celebrit...</td>\n",
       "      <td>[{'Label': 'Brett Young (singer)', 'Type': 'P'...</td>\n",
       "      <td>[]</td>\n",
       "      <td>-1.588506</td>\n",
       "      <td>0.500610</td>\n",
       "      <td>-0.153222</td>\n",
       "      <td>-0.158851</td>\n",
       "      <td>0.200244</td>\n",
       "      <td>-0.076611</td>\n",
       "      <td>-0.035218</td>\n",
       "      <td>False</td>\n",
       "    </tr>\n",
       "    <tr>\n",
       "      <th>N21524</th>\n",
       "      <td>news</td>\n",
       "      <td>newsopinion</td>\n",
       "      <td>David Bossie: Trump impeachment witch hunt mus...</td>\n",
       "      <td>An attorney for the anonymous member of the in...</td>\n",
       "      <td>https://www.msn.com/en-us/news/newsopinion/dav...</td>\n",
       "      <td>[{'Label': 'Donald Trump', 'Type': 'P', 'Wikid...</td>\n",
       "      <td>[{'Label': 'Donald Trump', 'Type': 'P', 'Wikid...</td>\n",
       "      <td>1.330283</td>\n",
       "      <td>0.648498</td>\n",
       "      <td>-0.223577</td>\n",
       "      <td>0.133028</td>\n",
       "      <td>0.259399</td>\n",
       "      <td>-0.111788</td>\n",
       "      <td>0.280639</td>\n",
       "      <td>False</td>\n",
       "    </tr>\n",
       "    <tr>\n",
       "      <th>N15018</th>\n",
       "      <td>news</td>\n",
       "      <td>newspolitics</td>\n",
       "      <td>Democrats gear up for 2nd round of hearings</td>\n",
       "      <td>Former Democratic Sen. Heidi Heitkamp says Dem...</td>\n",
       "      <td>https://www.msn.com/en-us/news/newspolitics/de...</td>\n",
       "      <td>[{'Label': 'Democratic Party (United States)',...</td>\n",
       "      <td>[{'Label': 'Foreign policy of the United State...</td>\n",
       "      <td>0.642357</td>\n",
       "      <td>-1.676693</td>\n",
       "      <td>-0.325462</td>\n",
       "      <td>0.064236</td>\n",
       "      <td>-0.670677</td>\n",
       "      <td>-0.162731</td>\n",
       "      <td>-0.769173</td>\n",
       "      <td>False</td>\n",
       "    </tr>\n",
       "    <tr>\n",
       "      <th>N351</th>\n",
       "      <td>tv</td>\n",
       "      <td>tv-celebrity</td>\n",
       "      <td>'Sons Of Anarchy' Star Ron Perlman Files for D...</td>\n",
       "      <td>According to documents obtained by ET, the act...</td>\n",
       "      <td>https://www.msn.com/en-us/tv/tv-celebrity/'son...</td>\n",
       "      <td>[{'Label': 'Ron Perlman', 'Type': 'P', 'Wikida...</td>\n",
       "      <td>[{'Label': 'Eastern Time Zone', 'Type': 'U', '...</td>\n",
       "      <td>-1.344695</td>\n",
       "      <td>1.542257</td>\n",
       "      <td>1.004598</td>\n",
       "      <td>-0.134469</td>\n",
       "      <td>0.616903</td>\n",
       "      <td>0.502299</td>\n",
       "      <td>0.984732</td>\n",
       "      <td>True</td>\n",
       "    </tr>\n",
       "    <tr>\n",
       "      <th>N3781</th>\n",
       "      <td>sports</td>\n",
       "      <td>basketball_ncaa</td>\n",
       "      <td>Chandler snags top seed, Chaparral takes final...</td>\n",
       "      <td>Jack Miller's 7-yard TD pass to Sean Parker as...</td>\n",
       "      <td>https://www.msn.com/en-us/sports/basketball_nc...</td>\n",
       "      <td>[{'Label': '64th Division (Imperial Japanese A...</td>\n",
       "      <td>[{'Label': '64th Division (Imperial Japanese A...</td>\n",
       "      <td>-0.208297</td>\n",
       "      <td>-0.998004</td>\n",
       "      <td>-0.278143</td>\n",
       "      <td>-0.020830</td>\n",
       "      <td>-0.399202</td>\n",
       "      <td>-0.139071</td>\n",
       "      <td>-0.559103</td>\n",
       "      <td>False</td>\n",
       "    </tr>\n",
       "    <tr>\n",
       "      <th>N28143</th>\n",
       "      <td>sports</td>\n",
       "      <td>baseball_mlb</td>\n",
       "      <td>Phillies decline options on pitchers Jason Var...</td>\n",
       "      <td>It was time for some housekeeping at Citizens ...</td>\n",
       "      <td>https://www.msn.com/en-us/sports/baseball_mlb/...</td>\n",
       "      <td>[{'Label': 'Philadelphia Phillies', 'Type': 'O...</td>\n",
       "      <td>[{'Label': 'Philadelphia Phillies', 'Type': 'O...</td>\n",
       "      <td>-1.414315</td>\n",
       "      <td>-0.920180</td>\n",
       "      <td>-0.273430</td>\n",
       "      <td>-0.141431</td>\n",
       "      <td>-0.368072</td>\n",
       "      <td>-0.136715</td>\n",
       "      <td>-0.646219</td>\n",
       "      <td>False</td>\n",
       "    </tr>\n",
       "    <tr>\n",
       "      <th>N1802</th>\n",
       "      <td>sports</td>\n",
       "      <td>football_nfl</td>\n",
       "      <td>Panthers coach Ron Rivera won't pressure QB Ca...</td>\n",
       "      <td>Carolina Panthers coach Ron Rivera said Tuesda...</td>\n",
       "      <td>https://www.msn.com/en-us/sports/football_nfl/...</td>\n",
       "      <td>[{'Label': 'Cam Newton', 'Type': 'P', 'Wikidat...</td>\n",
       "      <td>[{'Label': 'Cam Newton', 'Type': 'P', 'Wikidat...</td>\n",
       "      <td>-1.460451</td>\n",
       "      <td>-0.254795</td>\n",
       "      <td>-0.272182</td>\n",
       "      <td>-0.146045</td>\n",
       "      <td>-0.101918</td>\n",
       "      <td>-0.136091</td>\n",
       "      <td>-0.384054</td>\n",
       "      <td>True</td>\n",
       "    </tr>\n",
       "    <tr>\n",
       "      <th>N15726</th>\n",
       "      <td>sports</td>\n",
       "      <td>racing</td>\n",
       "      <td>Rain pushes Monster Energy Series race at Tall...</td>\n",
       "      <td>TALLADEGA, Ala.   Sunday's Monster Energy NASC...</td>\n",
       "      <td>https://www.msn.com/en-us/sports/racing/rain-p...</td>\n",
       "      <td>[{'Label': 'Talladega Superspeedway', 'Type': ...</td>\n",
       "      <td>[{'Label': 'Mackay Ring Road', 'Type': 'S', 'W...</td>\n",
       "      <td>-0.762652</td>\n",
       "      <td>-0.001145</td>\n",
       "      <td>-0.179099</td>\n",
       "      <td>-0.076265</td>\n",
       "      <td>-0.000458</td>\n",
       "      <td>-0.089550</td>\n",
       "      <td>-0.166273</td>\n",
       "      <td>True</td>\n",
       "    </tr>\n",
       "    <tr>\n",
       "      <th>N11315</th>\n",
       "      <td>sports</td>\n",
       "      <td>more_sports</td>\n",
       "      <td>PHOTOS: America's Best High School Football St...</td>\n",
       "      <td>USA TODAY High School Sports has identified th...</td>\n",
       "      <td>https://www.msn.com/en-us/sports/more-sports/p...</td>\n",
       "      <td>[{'Label': 'United States', 'Type': 'G', 'Wiki...</td>\n",
       "      <td>[{'Label': 'USA Today', 'Type': 'M', 'Wikidata...</td>\n",
       "      <td>-0.273408</td>\n",
       "      <td>1.340934</td>\n",
       "      <td>0.206652</td>\n",
       "      <td>-0.027341</td>\n",
       "      <td>0.536373</td>\n",
       "      <td>0.103326</td>\n",
       "      <td>0.612359</td>\n",
       "      <td>False</td>\n",
       "    </tr>\n",
       "    <tr>\n",
       "      <th>N22248</th>\n",
       "      <td>sports</td>\n",
       "      <td>football_nfl</td>\n",
       "      <td>The next two weeks could go a long way in deci...</td>\n",
       "      <td>The lead-up to Thanksgiving is going to be cri...</td>\n",
       "      <td>https://www.msn.com/en-us/sports/football_nfl/...</td>\n",
       "      <td>[{'Label': 'NFC East', 'Type': 'O', 'WikidataI...</td>\n",
       "      <td>[]</td>\n",
       "      <td>-1.168515</td>\n",
       "      <td>-1.586009</td>\n",
       "      <td>-0.325462</td>\n",
       "      <td>-0.116851</td>\n",
       "      <td>-0.634404</td>\n",
       "      <td>-0.162731</td>\n",
       "      <td>-0.913986</td>\n",
       "      <td>False</td>\n",
       "    </tr>\n",
       "    <tr>\n",
       "      <th>N6600</th>\n",
       "      <td>sports</td>\n",
       "      <td>baseball_mlb</td>\n",
       "      <td>Is this the Astros whistling the Yankees compl...</td>\n",
       "      <td>This week's report about the Houston Astros' a...</td>\n",
       "      <td>https://www.msn.com/en-us/sports/mlb/is-this-t...</td>\n",
       "      <td>[{'Label': 'Houston Astros', 'Type': 'O', 'Wik...</td>\n",
       "      <td>[{'Label': 'Houston Astros', 'Type': 'O', 'Wik...</td>\n",
       "      <td>-1.378533</td>\n",
       "      <td>-1.444551</td>\n",
       "      <td>-0.325462</td>\n",
       "      <td>-0.137853</td>\n",
       "      <td>-0.577820</td>\n",
       "      <td>-0.162731</td>\n",
       "      <td>-0.878405</td>\n",
       "      <td>True</td>\n",
       "    </tr>\n",
       "    <tr>\n",
       "      <th>N26421</th>\n",
       "      <td>sports</td>\n",
       "      <td>basketball_nba</td>\n",
       "      <td>Bucks 124, Bulls 115: Grinding out a win witho...</td>\n",
       "      <td>Perhaps some issues were to be expected for th...</td>\n",
       "      <td>https://www.msn.com/en-us/sports/nba/bucks-124...</td>\n",
       "      <td>[{'Label': 'Milwaukee Bucks', 'Type': 'O', 'Wi...</td>\n",
       "      <td>[{'Label': 'Milwaukee Bucks', 'Type': 'O', 'Wi...</td>\n",
       "      <td>-0.919281</td>\n",
       "      <td>-1.216178</td>\n",
       "      <td>-0.325462</td>\n",
       "      <td>-0.091928</td>\n",
       "      <td>-0.486471</td>\n",
       "      <td>-0.162731</td>\n",
       "      <td>-0.741130</td>\n",
       "      <td>False</td>\n",
       "    </tr>\n",
       "    <tr>\n",
       "      <th>N15100</th>\n",
       "      <td>sports</td>\n",
       "      <td>football_nfl</td>\n",
       "      <td>If Patrick Mahomes is out for awhile, what wil...</td>\n",
       "      <td>Chiefs quarterback Patrick Mahomes has a knee ...</td>\n",
       "      <td>https://www.msn.com/en-us/sports/nfl/if-patric...</td>\n",
       "      <td>[{'Label': 'Kansas City Chiefs', 'Type': 'O', ...</td>\n",
       "      <td>[{'Label': 'Kansas City Chiefs', 'Type': 'O', ...</td>\n",
       "      <td>-1.176313</td>\n",
       "      <td>0.188648</td>\n",
       "      <td>-0.187585</td>\n",
       "      <td>-0.117631</td>\n",
       "      <td>0.075459</td>\n",
       "      <td>-0.093792</td>\n",
       "      <td>-0.135965</td>\n",
       "      <td>False</td>\n",
       "    </tr>\n",
       "    <tr>\n",
       "      <th>N18754</th>\n",
       "      <td>news</td>\n",
       "      <td>newspolitics</td>\n",
       "      <td>White House warns against including wall restr...</td>\n",
       "      <td>The White House is open to another stopgap spe...</td>\n",
       "      <td>https://www.msn.com/en-us/news/newspolitics/wh...</td>\n",
       "      <td>[{'Label': 'White House', 'Type': 'F', 'Wikida...</td>\n",
       "      <td>[{'Label': 'Continuing resolution', 'Type': 'C...</td>\n",
       "      <td>1.443108</td>\n",
       "      <td>-0.232622</td>\n",
       "      <td>-0.278148</td>\n",
       "      <td>0.144311</td>\n",
       "      <td>-0.093049</td>\n",
       "      <td>-0.139074</td>\n",
       "      <td>-0.087812</td>\n",
       "      <td>False</td>\n",
       "    </tr>\n",
       "    <tr>\n",
       "      <th>N3720</th>\n",
       "      <td>news</td>\n",
       "      <td>newscrime</td>\n",
       "      <td>DNA evidence links Santa Rosa man to rape 17 y...</td>\n",
       "      <td>A Santa Rosa man was arrested last month in co...</td>\n",
       "      <td>https://www.msn.com/en-us/news/newscrime/dna-e...</td>\n",
       "      <td>[{'Label': 'DNA', 'Type': 'U', 'WikidataId': '...</td>\n",
       "      <td>[{'Label': 'DNA', 'Type': 'U', 'WikidataId': '...</td>\n",
       "      <td>1.226615</td>\n",
       "      <td>-0.193600</td>\n",
       "      <td>-0.274211</td>\n",
       "      <td>0.122662</td>\n",
       "      <td>-0.077440</td>\n",
       "      <td>-0.137106</td>\n",
       "      <td>-0.091884</td>\n",
       "      <td>False</td>\n",
       "    </tr>\n",
       "  </tbody>\n",
       "</table>\n",
       "</div>"
      ],
      "text/plain": [
       "           cat           subcat  \\\n",
       "N1150   sports     football_nfl   \n",
       "N22882      tv       tv-gallery   \n",
       "N2993   sports   basketball_nba   \n",
       "N6231   sports    football_ncaa   \n",
       "N24590   autos        autosnews   \n",
       "N28377   music  music-celebrity   \n",
       "N21524    news      newsopinion   \n",
       "N15018    news     newspolitics   \n",
       "N351        tv     tv-celebrity   \n",
       "N3781   sports  basketball_ncaa   \n",
       "N28143  sports     baseball_mlb   \n",
       "N1802   sports     football_nfl   \n",
       "N15726  sports           racing   \n",
       "N11315  sports      more_sports   \n",
       "N22248  sports     football_nfl   \n",
       "N6600   sports     baseball_mlb   \n",
       "N26421  sports   basketball_nba   \n",
       "N15100  sports     football_nfl   \n",
       "N18754    news     newspolitics   \n",
       "N3720     news        newscrime   \n",
       "\n",
       "                                                    title  \\\n",
       "N1150   Arizona high school football roundup: Saguaro ...   \n",
       "N22882  12 Military-Themed TV Shows to Binge-Watch on ...   \n",
       "N2993   What we got wrong: Biggest preseason surprises...   \n",
       "N6231             AP Poll Top 25 Projection: After Week 8   \n",
       "N24590  Woman, 49, dies after being struck by SUV in N...   \n",
       "N28377  Brett Young and Wife Taylor Welcome Their Firs...   \n",
       "N21524  David Bossie: Trump impeachment witch hunt mus...   \n",
       "N15018        Democrats gear up for 2nd round of hearings   \n",
       "N351    'Sons Of Anarchy' Star Ron Perlman Files for D...   \n",
       "N3781   Chandler snags top seed, Chaparral takes final...   \n",
       "N28143  Phillies decline options on pitchers Jason Var...   \n",
       "N1802   Panthers coach Ron Rivera won't pressure QB Ca...   \n",
       "N15726  Rain pushes Monster Energy Series race at Tall...   \n",
       "N11315  PHOTOS: America's Best High School Football St...   \n",
       "N22248  The next two weeks could go a long way in deci...   \n",
       "N6600   Is this the Astros whistling the Yankees compl...   \n",
       "N26421  Bucks 124, Bulls 115: Grinding out a win witho...   \n",
       "N15100  If Patrick Mahomes is out for awhile, what wil...   \n",
       "N18754  White House warns against including wall restr...   \n",
       "N3720   DNA evidence links Santa Rosa man to rape 17 y...   \n",
       "\n",
       "                                                 abstract  \\\n",
       "N1150   Game stories from high school football games a...   \n",
       "N22882                            From \"M*A*S*H\" to \"JAG\"   \n",
       "N2993   The Bright Side Staff reflects on off-season p...   \n",
       "N6231   Where will all the top teams rank in the 2019 ...   \n",
       "N24590  A woman crossing a Brooklyn street with her yo...   \n",
       "N28377  The couple shared their daughter's first portr...   \n",
       "N21524  An attorney for the anonymous member of the in...   \n",
       "N15018  Former Democratic Sen. Heidi Heitkamp says Dem...   \n",
       "N351    According to documents obtained by ET, the act...   \n",
       "N3781   Jack Miller's 7-yard TD pass to Sean Parker as...   \n",
       "N28143  It was time for some housekeeping at Citizens ...   \n",
       "N1802   Carolina Panthers coach Ron Rivera said Tuesda...   \n",
       "N15726  TALLADEGA, Ala.   Sunday's Monster Energy NASC...   \n",
       "N11315  USA TODAY High School Sports has identified th...   \n",
       "N22248  The lead-up to Thanksgiving is going to be cri...   \n",
       "N6600   This week's report about the Houston Astros' a...   \n",
       "N26421  Perhaps some issues were to be expected for th...   \n",
       "N15100  Chiefs quarterback Patrick Mahomes has a knee ...   \n",
       "N18754  The White House is open to another stopgap spe...   \n",
       "N3720   A Santa Rosa man was arrested last month in co...   \n",
       "\n",
       "                                                      url  \\\n",
       "N1150   https://www.msn.com/en-us/sports/nfl/arizona-h...   \n",
       "N22882  https://www.msn.com/en-us/tv/tv-gallery/12-mil...   \n",
       "N2993   https://www.msn.com/en-us/sports/nba/what-we-g...   \n",
       "N6231   https://www.msn.com/en-us/sports/ncaafb/ap-pol...   \n",
       "N24590  https://www.msn.com/en-us/autos/autosnews/woma...   \n",
       "N28377  https://www.msn.com/en-us/music/music-celebrit...   \n",
       "N21524  https://www.msn.com/en-us/news/newsopinion/dav...   \n",
       "N15018  https://www.msn.com/en-us/news/newspolitics/de...   \n",
       "N351    https://www.msn.com/en-us/tv/tv-celebrity/'son...   \n",
       "N3781   https://www.msn.com/en-us/sports/basketball_nc...   \n",
       "N28143  https://www.msn.com/en-us/sports/baseball_mlb/...   \n",
       "N1802   https://www.msn.com/en-us/sports/football_nfl/...   \n",
       "N15726  https://www.msn.com/en-us/sports/racing/rain-p...   \n",
       "N11315  https://www.msn.com/en-us/sports/more-sports/p...   \n",
       "N22248  https://www.msn.com/en-us/sports/football_nfl/...   \n",
       "N6600   https://www.msn.com/en-us/sports/mlb/is-this-t...   \n",
       "N26421  https://www.msn.com/en-us/sports/nba/bucks-124...   \n",
       "N15100  https://www.msn.com/en-us/sports/nfl/if-patric...   \n",
       "N18754  https://www.msn.com/en-us/news/newspolitics/wh...   \n",
       "N3720   https://www.msn.com/en-us/news/newscrime/dna-e...   \n",
       "\n",
       "                                                title_ent  \\\n",
       "N1150   [{'Label': 'Marcos de Niza', 'Type': 'P', 'Wik...   \n",
       "N22882  [{'Label': 'Television show', 'Type': 'C', 'Wi...   \n",
       "N2993   [{'Label': 'Phoenix Suns', 'Type': 'O', 'Wikid...   \n",
       "N6231   [{'Label': 'AP Poll', 'Type': 'U', 'WikidataId...   \n",
       "N24590  [{'Label': 'Sport utility vehicle', 'Type': 'C...   \n",
       "N28377  [{'Label': 'Brett Young (singer)', 'Type': 'P'...   \n",
       "N21524  [{'Label': 'Donald Trump', 'Type': 'P', 'Wikid...   \n",
       "N15018  [{'Label': 'Democratic Party (United States)',...   \n",
       "N351    [{'Label': 'Ron Perlman', 'Type': 'P', 'Wikida...   \n",
       "N3781   [{'Label': '64th Division (Imperial Japanese A...   \n",
       "N28143  [{'Label': 'Philadelphia Phillies', 'Type': 'O...   \n",
       "N1802   [{'Label': 'Cam Newton', 'Type': 'P', 'Wikidat...   \n",
       "N15726  [{'Label': 'Talladega Superspeedway', 'Type': ...   \n",
       "N11315  [{'Label': 'United States', 'Type': 'G', 'Wiki...   \n",
       "N22248  [{'Label': 'NFC East', 'Type': 'O', 'WikidataI...   \n",
       "N6600   [{'Label': 'Houston Astros', 'Type': 'O', 'Wik...   \n",
       "N26421  [{'Label': 'Milwaukee Bucks', 'Type': 'O', 'Wi...   \n",
       "N15100  [{'Label': 'Kansas City Chiefs', 'Type': 'O', ...   \n",
       "N18754  [{'Label': 'White House', 'Type': 'F', 'Wikida...   \n",
       "N3720   [{'Label': 'DNA', 'Type': 'U', 'WikidataId': '...   \n",
       "\n",
       "                                             abstract_ent   content  \\\n",
       "N1150   [{'Label': 'Arizona', 'Type': 'G', 'WikidataId... -0.764306   \n",
       "N22882  [{'Label': 'M*A*S*H (TV series)', 'Type': 'W',... -2.880342   \n",
       "N2993                                                  [] -0.986070   \n",
       "N6231   [{'Label': 'AP Poll', 'Type': 'U', 'WikidataId... -0.831936   \n",
       "N24590  [{'Label': 'Bath Beach, Brooklyn', 'Type': 'C'...  0.338971   \n",
       "N28377                                                 [] -1.588506   \n",
       "N21524  [{'Label': 'Donald Trump', 'Type': 'P', 'Wikid...  1.330283   \n",
       "N15018  [{'Label': 'Foreign policy of the United State...  0.642357   \n",
       "N351    [{'Label': 'Eastern Time Zone', 'Type': 'U', '... -1.344695   \n",
       "N3781   [{'Label': '64th Division (Imperial Japanese A... -0.208297   \n",
       "N28143  [{'Label': 'Philadelphia Phillies', 'Type': 'O... -1.414315   \n",
       "N1802   [{'Label': 'Cam Newton', 'Type': 'P', 'Wikidat... -1.460451   \n",
       "N15726  [{'Label': 'Mackay Ring Road', 'Type': 'S', 'W... -0.762652   \n",
       "N11315  [{'Label': 'USA Today', 'Type': 'M', 'Wikidata... -0.273408   \n",
       "N22248                                                 [] -1.168515   \n",
       "N6600   [{'Label': 'Houston Astros', 'Type': 'O', 'Wik... -1.378533   \n",
       "N26421  [{'Label': 'Milwaukee Bucks', 'Type': 'O', 'Wi... -0.919281   \n",
       "N15100  [{'Label': 'Kansas City Chiefs', 'Type': 'O', ... -1.176313   \n",
       "N18754  [{'Label': 'Continuing resolution', 'Type': 'C...  1.443108   \n",
       "N3720   [{'Label': 'DNA', 'Type': 'U', 'WikidataId': '...  1.226615   \n",
       "\n",
       "        popularity     users  content_w  popularity_w   users_w     score  \\\n",
       "N1150    -0.330402 -0.276539  -0.076431     -0.132161 -0.138270 -0.346861   \n",
       "N22882   -1.181590 -0.234719  -0.288034     -0.472636 -0.117359 -0.878029   \n",
       "N2993    -1.061195 -0.279701  -0.098607     -0.424478 -0.139851 -0.662936   \n",
       "N6231    -0.839917 -0.276288  -0.083194     -0.335967 -0.138144 -0.557304   \n",
       "N24590    0.168915 -0.273326   0.033897      0.067566 -0.136663 -0.035200   \n",
       "N28377    0.500610 -0.153222  -0.158851      0.200244 -0.076611 -0.035218   \n",
       "N21524    0.648498 -0.223577   0.133028      0.259399 -0.111788  0.280639   \n",
       "N15018   -1.676693 -0.325462   0.064236     -0.670677 -0.162731 -0.769173   \n",
       "N351      1.542257  1.004598  -0.134469      0.616903  0.502299  0.984732   \n",
       "N3781    -0.998004 -0.278143  -0.020830     -0.399202 -0.139071 -0.559103   \n",
       "N28143   -0.920180 -0.273430  -0.141431     -0.368072 -0.136715 -0.646219   \n",
       "N1802    -0.254795 -0.272182  -0.146045     -0.101918 -0.136091 -0.384054   \n",
       "N15726   -0.001145 -0.179099  -0.076265     -0.000458 -0.089550 -0.166273   \n",
       "N11315    1.340934  0.206652  -0.027341      0.536373  0.103326  0.612359   \n",
       "N22248   -1.586009 -0.325462  -0.116851     -0.634404 -0.162731 -0.913986   \n",
       "N6600    -1.444551 -0.325462  -0.137853     -0.577820 -0.162731 -0.878405   \n",
       "N26421   -1.216178 -0.325462  -0.091928     -0.486471 -0.162731 -0.741130   \n",
       "N15100    0.188648 -0.187585  -0.117631      0.075459 -0.093792 -0.135965   \n",
       "N18754   -0.232622 -0.278148   0.144311     -0.093049 -0.139074 -0.087812   \n",
       "N3720    -0.193600 -0.274211   0.122662     -0.077440 -0.137106 -0.091884   \n",
       "\n",
       "        random  \n",
       "N1150    False  \n",
       "N22882   False  \n",
       "N2993    False  \n",
       "N6231    False  \n",
       "N24590   False  \n",
       "N28377   False  \n",
       "N21524   False  \n",
       "N15018   False  \n",
       "N351      True  \n",
       "N3781    False  \n",
       "N28143   False  \n",
       "N1802     True  \n",
       "N15726    True  \n",
       "N11315   False  \n",
       "N22248   False  \n",
       "N6600     True  \n",
       "N26421   False  \n",
       "N15100   False  \n",
       "N18754   False  \n",
       "N3720    False  "
      ]
     },
     "metadata": {},
     "output_type": "display_data"
    },
    {
     "data": {
      "text/plain": [
       "[5.302434786841366, -8.532712099859904]"
      ]
     },
     "execution_count": 3,
     "metadata": {},
     "output_type": "execute_result"
    }
   ],
   "source": [
    "model = WHITEBOX_MODEL\n",
    "user_emb = model.embed_user(history)\n",
    "print(user_emb)\n",
    "recos = model.get_reco(user_emb, history=history, wei_mtd=wei_mtd, wei_obj=wei_obj)\n",
    "display(recos)\n",
    "viz = get_viz(user_emb, 'users', 'whitebox')\n",
    "viz"
   ]
  },
  {
   "cell_type": "code",
   "execution_count": 4,
   "id": "f0e8d8f1",
   "metadata": {
    "ExecuteTime": {
     "end_time": "2022-06-09T00:42:15.117564Z",
     "start_time": "2022-06-09T00:42:14.332276Z"
    }
   },
   "outputs": [
    {
     "data": {
      "text/html": [
       "<div>\n",
       "<style scoped>\n",
       "    .dataframe tbody tr th:only-of-type {\n",
       "        vertical-align: middle;\n",
       "    }\n",
       "\n",
       "    .dataframe tbody tr th {\n",
       "        vertical-align: top;\n",
       "    }\n",
       "\n",
       "    .dataframe thead th {\n",
       "        text-align: right;\n",
       "    }\n",
       "</style>\n",
       "<table border=\"1\" class=\"dataframe\">\n",
       "  <thead>\n",
       "    <tr style=\"text-align: right;\">\n",
       "      <th></th>\n",
       "      <th>content</th>\n",
       "      <th>popularity</th>\n",
       "      <th>users</th>\n",
       "      <th>cat</th>\n",
       "      <th>subcat</th>\n",
       "      <th>content_w</th>\n",
       "      <th>popularity_w</th>\n",
       "      <th>users_w</th>\n",
       "      <th>score</th>\n",
       "    </tr>\n",
       "  </thead>\n",
       "  <tbody>\n",
       "    <tr>\n",
       "      <th>N18426</th>\n",
       "      <td>-0.827612</td>\n",
       "      <td>1.731828</td>\n",
       "      <td>28.655957</td>\n",
       "      <td>8.0</td>\n",
       "      <td>140.0</td>\n",
       "      <td>-0.082761</td>\n",
       "      <td>0.692731</td>\n",
       "      <td>14.327978</td>\n",
       "      <td>14.937949</td>\n",
       "    </tr>\n",
       "    <tr>\n",
       "      <th>N14065</th>\n",
       "      <td>1.039708</td>\n",
       "      <td>1.731606</td>\n",
       "      <td>27.019051</td>\n",
       "      <td>6.0</td>\n",
       "      <td>106.0</td>\n",
       "      <td>0.103971</td>\n",
       "      <td>0.692643</td>\n",
       "      <td>13.509525</td>\n",
       "      <td>14.306139</td>\n",
       "    </tr>\n",
       "    <tr>\n",
       "      <th>N4617</th>\n",
       "      <td>1.170847</td>\n",
       "      <td>1.731163</td>\n",
       "      <td>19.495721</td>\n",
       "      <td>10.0</td>\n",
       "      <td>152.0</td>\n",
       "      <td>0.117085</td>\n",
       "      <td>0.692465</td>\n",
       "      <td>9.747861</td>\n",
       "      <td>10.557411</td>\n",
       "    </tr>\n",
       "    <tr>\n",
       "      <th>N26676</th>\n",
       "      <td>1.228468</td>\n",
       "      <td>1.730720</td>\n",
       "      <td>19.076635</td>\n",
       "      <td>10.0</td>\n",
       "      <td>158.0</td>\n",
       "      <td>0.122847</td>\n",
       "      <td>0.692288</td>\n",
       "      <td>9.538317</td>\n",
       "      <td>10.353452</td>\n",
       "    </tr>\n",
       "    <tr>\n",
       "      <th>N17579</th>\n",
       "      <td>-1.260782</td>\n",
       "      <td>1.731385</td>\n",
       "      <td>19.063302</td>\n",
       "      <td>11.0</td>\n",
       "      <td>33.0</td>\n",
       "      <td>-0.126078</td>\n",
       "      <td>0.692554</td>\n",
       "      <td>9.531651</td>\n",
       "      <td>10.098127</td>\n",
       "    </tr>\n",
       "  </tbody>\n",
       "</table>\n",
       "</div>"
      ],
      "text/plain": [
       "         content  popularity      users   cat  subcat  content_w  \\\n",
       "N18426 -0.827612    1.731828  28.655957   8.0   140.0  -0.082761   \n",
       "N14065  1.039708    1.731606  27.019051   6.0   106.0   0.103971   \n",
       "N4617   1.170847    1.731163  19.495721  10.0   152.0   0.117085   \n",
       "N26676  1.228468    1.730720  19.076635  10.0   158.0   0.122847   \n",
       "N17579 -1.260782    1.731385  19.063302  11.0    33.0  -0.126078   \n",
       "\n",
       "        popularity_w    users_w      score  \n",
       "N18426      0.692731  14.327978  14.937949  \n",
       "N14065      0.692643  13.509525  14.306139  \n",
       "N4617       0.692465   9.747861  10.557411  \n",
       "N26676      0.692288   9.538317  10.353452  \n",
       "N17579      0.692554   9.531651  10.098127  "
      ]
     },
     "execution_count": 4,
     "metadata": {},
     "output_type": "execute_result"
    }
   ],
   "source": [
    "df_scores = model.get_scores(\n",
    "    user_emb, history, wei_mtd\n",
    ")\n",
    "df_scores.head()"
   ]
  },
  {
   "cell_type": "code",
   "execution_count": 5,
   "id": "5abda9fb",
   "metadata": {
    "ExecuteTime": {
     "end_time": "2022-06-09T00:42:16.536247Z",
     "start_time": "2022-06-09T00:42:15.121581Z"
    }
   },
   "outputs": [
    {
     "data": {
      "text/plain": [
       "<AxesSubplot:>"
      ]
     },
     "execution_count": 5,
     "metadata": {},
     "output_type": "execute_result"
    },
    {
     "data": {
      "image/png": "[encoded data removed]",
      "text/plain": [
       "<Figure size 432x288 with 1 Axes>"
      ]
     },
     "metadata": {
      "needs_background": "light"
     },
     "output_type": "display_data"
    }
   ],
   "source": [
    "df_scores['popularity'].hist(bins=100)"
   ]
  },
  {
   "cell_type": "code",
   "execution_count": 6,
   "id": "1d447793",
   "metadata": {
    "ExecuteTime": {
     "end_time": "2022-06-09T00:42:16.837782Z",
     "start_time": "2022-06-09T00:42:16.538263Z"
    }
   },
   "outputs": [
    {
     "data": {
      "text/plain": [
       "<AxesSubplot:>"
      ]
     },
     "execution_count": 6,
     "metadata": {},
     "output_type": "execute_result"
    },
    {
     "data": {
      "image/png": "[encoded data removed]",
      "text/plain": [
       "<Figure size 432x288 with 1 Axes>"
      ]
     },
     "metadata": {
      "needs_background": "light"
     },
     "output_type": "display_data"
    }
   ],
   "source": [
    "df_scores['content'].hist(bins=100)"
   ]
  },
  {
   "cell_type": "code",
   "execution_count": 7,
   "id": "64707b01",
   "metadata": {
    "ExecuteTime": {
     "end_time": "2022-06-09T00:42:17.139523Z",
     "start_time": "2022-06-09T00:42:16.840179Z"
    }
   },
   "outputs": [
    {
     "data": {
      "text/plain": [
       "<AxesSubplot:>"
      ]
     },
     "execution_count": 7,
     "metadata": {},
     "output_type": "execute_result"
    },
    {
     "data": {
      "image/png": "[encoded data removed]",
      "text/plain": [
       "<Figure size 432x288 with 1 Axes>"
      ]
     },
     "metadata": {
      "needs_background": "light"
     },
     "output_type": "display_data"
    }
   ],
   "source": [
    "df_scores['users'].hist(bins=100)"
   ]
  },
  {
   "cell_type": "code",
   "execution_count": 8,
   "id": "5c4fb77e",
   "metadata": {
    "ExecuteTime": {
     "end_time": "2022-06-09T00:42:17.153227Z",
     "start_time": "2022-06-09T00:42:17.145234Z"
    }
   },
   "outputs": [
    {
     "data": {
      "text/plain": [
       "1326"
      ]
     },
     "execution_count": 8,
     "metadata": {},
     "output_type": "execute_result"
    }
   ],
   "source": [
    "(df_scores['users'] > .5).sum()"
   ]
  },
  {
   "cell_type": "code",
   "execution_count": null,
   "id": "6b746205",
   "metadata": {},
   "outputs": [],
   "source": []
  },
  {
   "cell_type": "code",
   "execution_count": null,
   "id": "c94dde12",
   "metadata": {},
   "outputs": [],
   "source": []
  },
  {
   "cell_type": "code",
   "execution_count": null,
   "id": "70dbcfa2",
   "metadata": {},
   "outputs": [],
   "source": []
  },
  {
   "cell_type": "code",
   "execution_count": null,
   "id": "39ee4779",
   "metadata": {},
   "outputs": [],
   "source": []
  },
  {
   "cell_type": "code",
   "execution_count": null,
   "id": "d3579ee4",
   "metadata": {},
   "outputs": [],
   "source": []
  },
  {
   "cell_type": "code",
   "execution_count": null,
   "id": "33e8f6e7",
   "metadata": {},
   "outputs": [],
   "source": []
  },
  {
   "cell_type": "code",
   "execution_count": null,
   "id": "01bc4761",
   "metadata": {},
   "outputs": [],
   "source": []
  },
  {
   "cell_type": "code",
   "execution_count": null,
   "id": "bf874be7",
   "metadata": {},
   "outputs": [],
   "source": []
  },
  {
   "cell_type": "code",
   "execution_count": null,
   "id": "539abf63",
   "metadata": {},
   "outputs": [],
   "source": []
  },
  {
   "cell_type": "code",
   "execution_count": null,
   "id": "01c272ee",
   "metadata": {},
   "outputs": [],
   "source": []
  },
  {
   "cell_type": "code",
   "execution_count": null,
   "id": "ea2d42f3",
   "metadata": {},
   "outputs": [],
   "source": []
  },
  {
   "cell_type": "code",
   "execution_count": null,
   "id": "ab0d5c16",
   "metadata": {
    "ExecuteTime": {
     "end_time": "2022-05-11T15:35:52.065155Z",
     "start_time": "2022-05-11T15:35:51.704014Z"
    }
   },
   "outputs": [],
   "source": [
    "import pandas as pd"
   ]
  },
  {
   "cell_type": "code",
   "execution_count": null,
   "id": "302ea5f6",
   "metadata": {
    "ExecuteTime": {
     "end_time": "2022-05-11T15:35:55.995020Z",
     "start_time": "2022-05-11T15:35:55.916767Z"
    }
   },
   "outputs": [],
   "source": [
    "coordinates = pd.read_csv('visualization/embeddings_2d.csv', index_col=0)\n",
    "coordinates.head()"
   ]
  },
  {
   "cell_type": "code",
   "execution_count": null,
   "id": "ff531fa8",
   "metadata": {
    "ExecuteTime": {
     "end_time": "2022-05-11T15:36:05.869138Z",
     "start_time": "2022-05-11T15:36:05.806241Z"
    }
   },
   "outputs": [],
   "source": [
    "coordinates.to_json(orient='records')"
   ]
  },
  {
   "cell_type": "code",
   "execution_count": null,
   "id": "6265b238",
   "metadata": {},
   "outputs": [],
   "source": []
  },
  {
   "cell_type": "code",
   "execution_count": null,
   "id": "9e687c28",
   "metadata": {
    "ExecuteTime": {
     "end_time": "2022-05-10T16:55:49.748219Z",
     "start_time": "2022-05-10T16:55:41.710781Z"
    }
   },
   "outputs": [],
   "source": [
    "from sentence_transformers import SentenceTransformer\n",
    "from sklearn.preprocessing import LabelEncoder\n",
    "from data import DF_NEWS_TRAIN\n",
    "\n",
    "model = SentenceTransformer('sentence-transformers/stsb-distilbert-base')\n",
    "encoder = LabelEncoder()"
   ]
  },
  {
   "cell_type": "code",
   "execution_count": null,
   "id": "bda81004",
   "metadata": {
    "ExecuteTime": {
     "end_time": "2022-05-10T17:07:03.070561Z",
     "start_time": "2022-05-10T17:07:03.039329Z"
    }
   },
   "outputs": [],
   "source": [
    "cats = encoder.fit_transform(DF_NEWS_TRAIN['cat'])\n",
    "subcats = encoder.fit_transform(DF_NEWS_TRAIN['subcat'])"
   ]
  },
  {
   "cell_type": "code",
   "execution_count": null,
   "id": "f32a026a",
   "metadata": {
    "ExecuteTime": {
     "end_time": "2022-05-10T17:46:53.874708Z",
     "start_time": "2022-05-10T17:46:53.874708Z"
    }
   },
   "outputs": [],
   "source": [
    "titles = DF_NEWS_TRAIN['title']\n",
    "embeddings = model.encode(titles)\n",
    "\n",
    "embeddings = pd.DataFrame(embeddings)\n",
    "embeddings[768] = encoder.fit_transform(cats)\n",
    "embeddings[769] = encoder.fit_transform(subcats)\n",
    "\n",
    "embeddings.head()"
   ]
  },
  {
   "cell_type": "code",
   "execution_count": null,
   "id": "cc1a121c",
   "metadata": {
    "ExecuteTime": {
     "end_time": "2022-05-10T17:13:30.426835Z",
     "start_time": "2022-05-10T17:13:30.411195Z"
    }
   },
   "outputs": [],
   "source": [
    "from sklearn.decomposition import PCA\n",
    "from sklearn.preprocessing import StandardScaler\n",
    "\n",
    "pca = PCA(n_components=2)\n",
    "scaler = StandardScaler()"
   ]
  },
  {
   "cell_type": "code",
   "execution_count": null,
   "id": "433ba686",
   "metadata": {
    "ExecuteTime": {
     "end_time": "2022-05-10T17:38:50.889438Z",
     "start_time": "2022-05-10T17:38:49.477950Z"
    }
   },
   "outputs": [],
   "source": [
    "X_scaled = scaler.fit_transform(X)\n",
    "X_2d = pca.fit_transform(X_scaled)"
   ]
  },
  {
   "cell_type": "code",
   "execution_count": null,
   "id": "9ba09d85",
   "metadata": {
    "ExecuteTime": {
     "end_time": "2022-05-10T17:13:31.508961Z",
     "start_time": "2022-05-10T17:13:31.493338Z"
    }
   },
   "outputs": [],
   "source": [
    "import matplotlib.pyplot as plt\n",
    "import pandas as pd"
   ]
  },
  {
   "cell_type": "code",
   "execution_count": null,
   "id": "58b7c825",
   "metadata": {
    "ExecuteTime": {
     "end_time": "2022-05-10T17:40:00.850592Z",
     "start_time": "2022-05-10T17:40:00.583497Z"
    }
   },
   "outputs": [],
   "source": [
    "data = pd.DataFrame(X_2d)\n",
    "data.plot.scatter(0, 1, alpha=.01)"
   ]
  },
  {
   "cell_type": "code",
   "execution_count": null,
   "id": "e19b0e39",
   "metadata": {},
   "outputs": [],
   "source": []
  },
  {
   "cell_type": "code",
   "execution_count": null,
   "id": "d367c5a6",
   "metadata": {},
   "outputs": [],
   "source": []
  },
  {
   "cell_type": "code",
   "execution_count": null,
   "id": "b7b89372",
   "metadata": {},
   "outputs": [],
   "source": []
  },
  {
   "cell_type": "code",
   "execution_count": null,
   "id": "9029a189",
   "metadata": {
    "ExecuteTime": {
     "end_time": "2022-05-23T20:58:37.376280Z",
     "start_time": "2022-05-23T20:58:37.357899Z"
    }
   },
   "outputs": [],
   "source": [
    "from models.blackbox.recommender import *"
   ]
  },
  {
   "cell_type": "code",
   "execution_count": null,
   "id": "b3562229",
   "metadata": {
    "ExecuteTime": {
     "end_time": "2022-05-23T21:08:29.788429Z",
     "start_time": "2022-05-23T21:08:29.548072Z"
    },
    "scrolled": true
   },
   "outputs": [],
   "source": [
    "get_reco(['N8268'])"
   ]
  },
  {
   "cell_type": "code",
   "execution_count": null,
   "id": "255486ee",
   "metadata": {},
   "outputs": [],
   "source": []
  },
  {
   "cell_type": "code",
   "execution_count": null,
   "id": "8a94ea18",
   "metadata": {
    "ExecuteTime": {
     "end_time": "2022-04-28T10:26:38.965348Z",
     "start_time": "2022-04-28T10:26:38.914706Z"
    }
   },
   "outputs": [],
   "source": [
    "DF_NEWS_TEST.head()"
   ]
  },
  {
   "cell_type": "code",
   "execution_count": null,
   "id": "1c93e97f",
   "metadata": {
    "ExecuteTime": {
     "end_time": "2022-04-28T10:27:14.506305Z",
     "start_time": "2022-04-28T10:27:07.287052Z"
    }
   },
   "outputs": [],
   "source": [
    "DF_NEWS_TEST.loc['N13620']"
   ]
  },
  {
   "cell_type": "code",
   "execution_count": null,
   "id": "4a0b3110",
   "metadata": {
    "ExecuteTime": {
     "end_time": "2022-04-28T10:26:38.777852Z",
     "start_time": "2022-04-28T10:26:22.487232Z"
    }
   },
   "outputs": [],
   "source": [
    "from data import DF_BHVR_TEST, DF_NEWS_TEST, DF_NEWS_TRAIN\n",
    "from models.blackbox.utils import build, load\n",
    "\n",
    "import numpy as np\n",
    "import pandas as pd\n",
    "import pickle\n",
    "\n",
    "SEED = 42\n",
    "np.seed = SEED"
   ]
  },
  {
   "cell_type": "code",
   "execution_count": null,
   "id": "e70a601b",
   "metadata": {
    "ExecuteTime": {
     "end_time": "2022-04-27T14:14:37.753139Z",
     "start_time": "2022-04-27T14:14:32.848729Z"
    }
   },
   "outputs": [],
   "source": [
    "model = build()\n",
    "load(model)"
   ]
  },
  {
   "cell_type": "code",
   "execution_count": null,
   "id": "3d52b160",
   "metadata": {
    "ExecuteTime": {
     "end_time": "2022-04-27T14:14:46.582322Z",
     "start_time": "2022-04-27T14:14:37.882613Z"
    }
   },
   "outputs": [],
   "source": [
    "news_vecs = model.run_news(\"data/train/news.tsv\")\n",
    "user_vec = model.run_user(\"data/train/news.tsv\", \"user.tsv\")[0]"
   ]
  },
  {
   "cell_type": "code",
   "execution_count": null,
   "id": "b278aa31",
   "metadata": {
    "ExecuteTime": {
     "end_time": "2022-04-27T14:25:30.441858Z",
     "start_time": "2022-04-27T14:25:30.373557Z"
    }
   },
   "outputs": [],
   "source": [
    "preds = np.dot(\n",
    "    np.stack(news_vecs.values(), axis=0),\n",
    "    user_vec,\n",
    ")\n",
    "pred_rank = np.argsort(np.argsort(preds)[::-1])\n",
    "pred_rank"
   ]
  },
  {
   "cell_type": "code",
   "execution_count": null,
   "id": "11a7206d",
   "metadata": {
    "ExecuteTime": {
     "end_time": "2022-04-27T14:32:49.798948Z",
     "start_time": "2022-04-27T14:32:49.785408Z"
    }
   },
   "outputs": [],
   "source": [
    "top = 10\n",
    "idx = np.argpartition(pred_rank, top)\n",
    "recos = [ x for _, x in sorted(zip(pred_rank[idx[:top]], idx[:top])) ]\n",
    "recos"
   ]
  },
  {
   "cell_type": "code",
   "execution_count": null,
   "id": "ffd2301a",
   "metadata": {
    "ExecuteTime": {
     "end_time": "2022-04-27T14:33:44.712769Z",
     "start_time": "2022-04-27T14:33:44.702039Z"
    }
   },
   "outputs": [],
   "source": [
    "sorted(zip(pred_rank[idx[:top]], idx[:top]))"
   ]
  },
  {
   "cell_type": "code",
   "execution_count": null,
   "id": "8904ab0e",
   "metadata": {
    "ExecuteTime": {
     "end_time": "2022-04-27T14:46:56.662847Z",
     "start_time": "2022-04-27T14:46:56.648213Z"
    }
   },
   "outputs": [],
   "source": [
    "recos = [str(r) for r in recos]\n",
    "recos"
   ]
  },
  {
   "cell_type": "code",
   "execution_count": null,
   "id": "2a788045",
   "metadata": {
    "ExecuteTime": {
     "end_time": "2022-04-27T14:48:43.552356Z",
     "start_time": "2022-04-27T14:48:43.516353Z"
    },
    "scrolled": true
   },
   "outputs": [],
   "source": [
    "recos = ['N3112', 'N10399', 'N12103', 'N20460', 'N5409', 'N21078', 'N9552']\n",
    "DF_NEWS_TEST.loc[recos]"
   ]
  },
  {
   "cell_type": "code",
   "execution_count": null,
   "id": "f8df65b8",
   "metadata": {
    "ExecuteTime": {
     "end_time": "2022-04-27T15:07:29.814551Z",
     "start_time": "2022-04-27T15:07:29.555237Z"
    }
   },
   "outputs": [],
   "source": [
    "user = pd.read_csv('user.tsv', sep='\\t', header=None)\n",
    "user"
   ]
  },
  {
   "cell_type": "code",
   "execution_count": null,
   "id": "9aa693a8",
   "metadata": {
    "ExecuteTime": {
     "end_time": "2022-04-27T15:30:07.219112Z",
     "start_time": "2022-04-27T15:30:06.083528Z"
    }
   },
   "outputs": [],
   "source": [
    "nid2index = {}\n",
    "news_title = [\"\"]\n",
    "\n",
    "for nid, news in DF_NEWS_TRAIN.iterrows():\n",
    "    if nid in nid2index:\n",
    "        continue\n",
    "    nid2index[nid] = len(nid2index) + 1\n",
    "    news_title.append(news['title'])"
   ]
  },
  {
   "cell_type": "code",
   "execution_count": null,
   "id": "5ed84561",
   "metadata": {
    "ExecuteTime": {
     "end_time": "2022-04-27T15:28:14.375474Z",
     "start_time": "2022-04-27T15:28:14.353054Z"
    },
    "scrolled": true
   },
   "outputs": [],
   "source": [
    "model_size = model.hparams.his_size\n",
    "\n",
    "history = user.iloc[0, 3]\n",
    "history = [ nid2index[nid] for nid in history.split() ]\n",
    "history = [0] * (model_size - len(history)) + history[:model_size]\n",
    "history"
   ]
  },
  {
   "cell_type": "code",
   "execution_count": null,
   "id": "4010da20",
   "metadata": {
    "ExecuteTime": {
     "end_time": "2022-04-27T15:31:37.378697Z",
     "start_time": "2022-04-27T15:31:37.348471Z"
    }
   },
   "outputs": [],
   "source": [
    "with open(model.hparams.wordDict_file, \"rb\") as f:\n",
    "    word_dict = pickle.load(f)"
   ]
  },
  {
   "cell_type": "code",
   "execution_count": null,
   "id": "8f391553",
   "metadata": {
    "ExecuteTime": {
     "end_time": "2022-04-27T15:46:26.024211Z",
     "start_time": "2022-04-27T15:46:24.822371Z"
    }
   },
   "outputs": [],
   "source": [
    "model_title_size = model.hparams.title_size\n",
    "\n",
    "news_title_index = np.zeros(\n",
    "    ( len(news_title), model_title_size ), \n",
    "    dtype=\"int32\"\n",
    ")\n",
    "\n",
    "for news_idx, title in enumerate(news_title):\n",
    "    for word_idx in range(min(model_title_size, len(title))):\n",
    "        word = title[word_idx]\n",
    "        if word in word_dict:\n",
    "            news_title_index[news_idx, word_idx] = word_dict[word.lower()]\n",
    "            \n",
    "news_title_index"
   ]
  },
  {
   "cell_type": "code",
   "execution_count": null,
   "id": "b4ee4302",
   "metadata": {
    "ExecuteTime": {
     "end_time": "2022-04-27T15:46:32.027536Z",
     "start_time": "2022-04-27T15:46:31.999812Z"
    }
   },
   "outputs": [],
   "source": [
    "user_indexes = [0]\n",
    "impr_indexes = [0]\n",
    "click_title_indexes = [ news_title_index[history] ]\n",
    "\n",
    "batch = {\n",
    "    \"user_index_batch\": np.asarray(user_indexes, dtype=np.int32),\n",
    "    \"impr_index_batch\": np.asarray(impr_indexes, dtype=np.int32),\n",
    "    \"clicked_title_batch\": np.asarray(click_title_indexes, dtype=np.int64)\n",
    "}\n",
    "batch"
   ]
  },
  {
   "cell_type": "code",
   "execution_count": null,
   "id": "03bbfdf8",
   "metadata": {
    "ExecuteTime": {
     "end_time": "2022-04-27T15:51:54.042099Z",
     "start_time": "2022-04-27T15:51:53.654215Z"
    },
    "scrolled": true
   },
   "outputs": [],
   "source": [
    "batch = model._get_user_feature_from_iter(batch)\n",
    "user_vec = model.userencoder.predict_on_batch(batch)\n",
    "user_vec"
   ]
  },
  {
   "cell_type": "code",
   "execution_count": null,
   "id": "3190cf66",
   "metadata": {},
   "outputs": [],
   "source": []
  },
  {
   "cell_type": "code",
   "execution_count": null,
   "id": "165ef56a",
   "metadata": {},
   "outputs": [],
   "source": []
  },
  {
   "cell_type": "code",
   "execution_count": null,
   "id": "42adc1cf",
   "metadata": {
    "ExecuteTime": {
     "end_time": "2022-04-27T13:05:00.822736Z",
     "start_time": "2022-04-27T13:05:00.764663Z"
    }
   },
   "outputs": [],
   "source": [
    "df = pd.DataFrame({\n",
    "    col: DF_BHVR_TEST[col].sample(n=1, random_state=SEED).values\n",
    "    for col in DF_BHVR_TEST.columns\n",
    "})\n",
    "df['impressions'] = \" \".join([ id_news + \"-0\" for id_news in DF_NEWS_TEST.sample(n=3).index ])\n",
    "df['impressions'] = 'N9582-0 N16696-0 N22013-1'\n",
    "df.to_csv(\"user.tsv\", sep=\"\\t\", header=False)\n",
    "df"
   ]
  },
  {
   "cell_type": "code",
   "execution_count": null,
   "id": "597bebf4",
   "metadata": {
    "ExecuteTime": {
     "end_time": "2022-04-27T13:05:09.802029Z",
     "start_time": "2022-04-27T13:05:09.776581Z"
    }
   },
   "outputs": [],
   "source": [
    "df.iloc[0]['history']"
   ]
  },
  {
   "cell_type": "code",
   "execution_count": null,
   "id": "e8f77899",
   "metadata": {
    "ExecuteTime": {
     "end_time": "2022-04-27T13:05:11.259830Z",
     "start_time": "2022-04-27T13:05:11.243291Z"
    }
   },
   "outputs": [],
   "source": [
    "df.iloc[0]['impressions']"
   ]
  },
  {
   "cell_type": "code",
   "execution_count": null,
   "id": "33fb218f",
   "metadata": {
    "ExecuteTime": {
     "end_time": "2022-04-27T13:05:15.678852Z",
     "start_time": "2022-04-27T13:05:15.021884Z"
    }
   },
   "outputs": [],
   "source": [
    "batch_data = model.test_iterator.load_data_from_file(\"data/test/news.tsv\", \"user.tsv\")\n",
    "batch_data = list(batch_data)\n",
    "len(batch_data)"
   ]
  },
  {
   "cell_type": "code",
   "execution_count": null,
   "id": "8d402ebf",
   "metadata": {
    "ExecuteTime": {
     "end_time": "2022-04-14T12:14:40.933278Z",
     "start_time": "2022-04-14T12:14:40.679115Z"
    }
   },
   "outputs": [],
   "source": [
    "for data in batch_data:\n",
    "    feat, label = model._get_input_label_from_iter(data)\n",
    "    pred = model.scorer.predict_on_batch(feat)\n",
    "    print(\"feat\")\n",
    "    print(feat)\n",
    "    print(\"label\")\n",
    "    print(label)\n",
    "    print(\"pred\")\n",
    "    print(pred)\n",
    "    print(\"===========================================\")"
   ]
  },
  {
   "cell_type": "code",
   "execution_count": null,
   "id": "f879bfad",
   "metadata": {
    "ExecuteTime": {
     "end_time": "2022-04-14T12:14:41.633254Z",
     "start_time": "2022-04-14T12:14:41.390534Z"
    }
   },
   "outputs": [],
   "source": [
    "group_impr_indexes, group_labels, group_preds = model.run_slow_eval(\"data/test/news.tsv\", \"user.tsv\")"
   ]
  },
  {
   "cell_type": "code",
   "execution_count": null,
   "id": "f4b535c7",
   "metadata": {
    "ExecuteTime": {
     "end_time": "2022-04-14T12:14:41.783633Z",
     "start_time": "2022-04-14T12:14:41.757764Z"
    }
   },
   "outputs": [],
   "source": [
    "group_impr_indexes"
   ]
  },
  {
   "cell_type": "code",
   "execution_count": null,
   "id": "9da144d3",
   "metadata": {
    "ExecuteTime": {
     "end_time": "2022-04-14T12:14:41.949988Z",
     "start_time": "2022-04-14T12:14:41.924588Z"
    }
   },
   "outputs": [],
   "source": [
    "group_labels"
   ]
  },
  {
   "cell_type": "code",
   "execution_count": null,
   "id": "fa852ea2",
   "metadata": {
    "ExecuteTime": {
     "end_time": "2022-04-14T12:14:42.099977Z",
     "start_time": "2022-04-14T12:14:42.090298Z"
    }
   },
   "outputs": [],
   "source": [
    "group_preds"
   ]
  },
  {
   "cell_type": "code",
   "execution_count": null,
   "id": "3d10e3c9",
   "metadata": {},
   "outputs": [],
   "source": []
  },
  {
   "cell_type": "code",
   "execution_count": null,
   "id": "199a20d1",
   "metadata": {},
   "outputs": [],
   "source": [
    "nid2index = {}\n",
    "\n",
    "for news in file:\n",
    "    nid\n",
    "    if nid in self.nid2index:\n",
    "        continue\n",
    "\n",
    "    nid2index[nid] = len(nid2index) + 1"
   ]
  },
  {
   "cell_type": "code",
   "execution_count": null,
   "id": "460b8d84",
   "metadata": {},
   "outputs": [],
   "source": [
    "labels = []\n",
    "imprs_indexes = []\n",
    "imprs = []\n",
    "\n",
    "for i, user in enumerate(file):\n",
    "    impr\n",
    "    \n",
    "    label = [int(i.split(\"-\")[1]) for i in impr.split()]\n",
    "    labels.append(label)\n",
    "    \n",
    "    impr_news = [self.nid2index[i.split(\"-\")[0]] for i in impr.split()]\n",
    "    imprs.append(impr_news)\n",
    "    \n",
    "    imprs_indexes.append(i)"
   ]
  },
  {
   "cell_type": "code",
   "execution_count": null,
   "id": "38091d6d",
   "metadata": {},
   "outputs": [],
   "source": [
    "indexes = np.arange(len(labels))\n",
    "for index in indexes:\n",
    "    impr_news = np.array(imprs[index], dtype=\"int32\")\n",
    "\n",
    "    yield(\n",
    "        impr_indexes[index],\n",
    "        impr_news\n",
    "    )"
   ]
  },
  {
   "cell_type": "code",
   "execution_count": null,
   "id": "ee7e4e02",
   "metadata": {},
   "outputs": [],
   "source": [
    "group_preds = []\n",
    "for ...:\n",
    "    pred = np.dot(\n",
    "        np.stack([news_vecs[i] for i in news_index], axis=0),\n",
    "        user_vecs[impr_index],\n",
    "    )\n",
    "    group_preds.append(pred)"
   ]
  },
  {
   "cell_type": "code",
   "execution_count": null,
   "id": "2cb3c957",
   "metadata": {},
   "outputs": [],
   "source": [
    "for preds in tqdm(group_preds):\n",
    "    pred_rank = (np.argsort(np.argsort(preds)[::-1]) + 1).tolist()\n",
    "    pred_rank = '[' + ','.join([str(i) for i in pred_rank]) + ']'\n",
    "    print(pred_rank)\n",
    "    break"
   ]
  },
  {
   "cell_type": "code",
   "execution_count": null,
   "id": "e319a326",
   "metadata": {},
   "outputs": [],
   "source": []
  },
  {
   "cell_type": "code",
   "execution_count": null,
   "id": "daa38acf",
   "metadata": {},
   "outputs": [],
   "source": []
  },
  {
   "cell_type": "code",
   "execution_count": null,
   "id": "ce960da2",
   "metadata": {
    "ExecuteTime": {
     "end_time": "2022-04-27T14:04:35.578566Z",
     "start_time": "2022-04-27T14:04:35.558441Z"
    },
    "deletable": false,
    "editable": false,
    "run_control": {
     "frozen": true
    }
   },
   "outputs": [],
   "source": [
    "nid2index = {}\n",
    "\n",
    "for nid in DF_NEWS_TRAIN.index:\n",
    "    if nid in nid2index:\n",
    "        continue\n",
    "    nid2index[nid] = len(nid2index) + 1"
   ]
  },
  {
   "cell_type": "code",
   "execution_count": null,
   "id": "2a5e6131",
   "metadata": {
    "ExecuteTime": {
     "end_time": "2022-04-27T14:04:37.940802Z",
     "start_time": "2022-04-27T14:04:37.918341Z"
    },
    "deletable": false,
    "editable": false,
    "run_control": {
     "frozen": true
    }
   },
   "outputs": [],
   "source": [
    "user = pd.read_csv('user.tsv', sep='\\t', header=None)\n",
    "impressions = user.iloc[0, 4]\n",
    "impressions"
   ]
  },
  {
   "cell_type": "code",
   "execution_count": null,
   "id": "523249a4",
   "metadata": {
    "ExecuteTime": {
     "end_time": "2022-04-27T14:04:39.208312Z",
     "start_time": "2022-04-27T14:04:39.194557Z"
    },
    "deletable": false,
    "editable": false,
    "run_control": {
     "frozen": true
    }
   },
   "outputs": [],
   "source": [
    "news_index = [\n",
    "    nid2index[impression.split(\"-\")[0]] \n",
    "    for impression in impressions.split()\n",
    "]\n",
    "news_index = np.array(news_index, dtype=\"int32\")"
   ]
  }
 ],
 "metadata": {
  "kernelspec": {
   "display_name": "Python 3 (ipykernel)",
   "language": "python",
   "name": "python3"
  },
  "language_info": {
   "codemirror_mode": {
    "name": "ipython",
    "version": 3
   },
   "file_extension": ".py",
   "mimetype": "text/x-python",
   "name": "python",
   "nbconvert_exporter": "python",
   "pygments_lexer": "ipython3",
   "version": "3.9.5"
  },
  "toc": {
   "base_numbering": 1,
   "nav_menu": {},
   "number_sections": true,
   "sideBar": true,
   "skip_h1_title": false,
   "title_cell": "Table of Contents",
   "title_sidebar": "Contents",
   "toc_cell": false,
   "toc_position": {},
   "toc_section_display": true,
   "toc_window_display": false
  },
  "varInspector": {
   "cols": {
    "lenName": 16,
    "lenType": 16,
    "lenVar": 40
   },
   "kernels_config": {
    "python": {
     "delete_cmd_postfix": "",
     "delete_cmd_prefix": "del ",
     "library": "var_list.py",
     "varRefreshCmd": "print(var_dic_list())"
    },
    "r": {
     "delete_cmd_postfix": ") ",
     "delete_cmd_prefix": "rm(",
     "library": "var_list.r",
     "varRefreshCmd": "cat(var_dic_list()) "
    }
   },
   "types_to_exclude": [
    "module",
    "function",
    "builtin_function_or_method",
    "instance",
    "_Feature"
   ],
   "window_display": false
  }
 },
 "nbformat": 4,
 "nbformat_minor": 5
}
